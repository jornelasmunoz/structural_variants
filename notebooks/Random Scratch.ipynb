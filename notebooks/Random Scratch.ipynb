{
 "cells": [
  {
   "cell_type": "code",
   "execution_count": 1,
   "id": "5e6be81d-57d5-458b-8db4-fb94921c276e",
   "metadata": {},
   "outputs": [],
   "source": [
    "%load_ext autoreload\n",
    "%autoreload 2\n",
    "%matplotlib inline"
   ]
  },
  {
   "cell_type": "markdown",
   "id": "07b7016d-a4bf-458d-8e63-4e10bab9c197",
   "metadata": {},
   "source": [
    "# Random uses"
   ]
  },
  {
   "cell_type": "markdown",
   "id": "de526355-878f-4d48-bc27-53a924c0ee18",
   "metadata": {},
   "source": [
    "## Plotting Neg Binom Distribution"
   ]
  },
  {
   "cell_type": "code",
   "execution_count": 6,
   "id": "f31aadcb-bf93-496e-a7f4-16d88a20204c",
   "metadata": {},
   "outputs": [],
   "source": [
    "from scipy.stats import nbinom\n",
    "import matplotlib.pyplot as plt\n",
    "import numpy as np"
   ]
  },
  {
   "cell_type": "code",
   "execution_count": 19,
   "id": "74df3574-6a00-453a-ae7d-6f65153150e2",
   "metadata": {},
   "outputs": [],
   "source": [
    "n, p = 4, 0.5\n",
    "mean, var, skew, kurt = nbinom.stats(n, p, moments='mvsk')"
   ]
  },
  {
   "cell_type": "code",
   "execution_count": 20,
   "id": "41112f26-faa5-4af3-a07b-a4c1ad67ab1e",
   "metadata": {},
   "outputs": [
    {
     "data": {
      "image/png": "[encoded data removed]",
      "text/plain": [
       "<Figure size 432x288 with 1 Axes>"
      ]
     },
     "metadata": {
      "needs_background": "light"
     },
     "output_type": "display_data"
    }
   ],
   "source": [
    "fig, ax = plt.subplots(1, 1)\n",
    "x = np.arange(nbinom.ppf(0.01, n, p),\n",
    "              nbinom.ppf(0.99, n, p))\n",
    "ax.plot(x, nbinom.pmf(x, n, p), 'bo', ms=8, label='nbinom pmf')\n",
    "ax.vlines(x, 0, nbinom.pmf(x, n, p), colors='b', lw=5, alpha=0.5)\n",
    "rv = nbinom(n, p)\n",
    "ax.vlines(x, 0, rv.pmf(x), colors='k', linestyles='-', lw=1,label='frozen pmf')\n",
    "ax.legend(loc='best', frameon=False)\n",
    "plt.show()"
   ]
  },
  {
   "cell_type": "code",
   "execution_count": null,
   "id": "d09b0be9-a4f0-451b-9b77-9c53296cdbd7",
   "metadata": {},
   "outputs": [],
   "source": []
  }
 ],
 "metadata": {
  "kernelspec": {
   "display_name": "Python 3 (ipykernel)",
   "language": "python",
   "name": "python3"
  },
  "language_info": {
   "codemirror_mode": {
    "name": "ipython",
    "version": 3
   },
   "file_extension": ".py",
   "mimetype": "text/x-python",
   "name": "python",
   "nbconvert_exporter": "python",
   "pygments_lexer": "ipython3",
   "version": "3.9.7"
  }
 },
 "nbformat": 4,
 "nbformat_minor": 5
}
