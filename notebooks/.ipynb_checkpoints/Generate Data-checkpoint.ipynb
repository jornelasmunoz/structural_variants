{
 "cells": [
  {
   "cell_type": "code",
   "execution_count": 1,
   "id": "9f6463e9",
   "metadata": {},
   "outputs": [],
   "source": [
    "import os, sys\n",
    "sys.path.insert(0, 'structural_variants/lib/')\n",
    "import numpy as np\n",
    "import pandas as pd\n",
    "import matplotlib.pyplot as plt\n",
    "from scipy import sparse\n",
    "import sympy\n",
    "import random\n",
    "\n",
    "# MATLAB\n",
    "# import matlab.engine\n",
    "# import matlab\n",
    "# print(matlab.__file__)\n",
    "# eng = matlab.engine.start_matlab()"
   ]
  },
  {
   "cell_type": "code",
   "execution_count": 6,
   "id": "c3415318",
   "metadata": {
    "tags": []
   },
   "outputs": [],
   "source": [
    "def generate_haploid_data(params):\n",
    "    '''\n",
    "    Generate simulated data for a one parent, one child Structural Variant analysis\n",
    "    Args: A dictionary containing the following parameters as keys\n",
    "        n: size of data vectors (signals)\n",
    "        k: total number of structural variants\n",
    "        pctNovel: percent of novel structural variants in [0,1] (biological reality- very small %)\n",
    "        lambda_p, lambda_c: sequence coverage of child and parent, respectively\n",
    "        erreps: error (>0) incurred by sequencing and mapping process\n",
    "        r: dispersion parameter for Negative Binomial distribution\n",
    "    \n",
    "    Output: A dictionary containing the following data elements as keys\n",
    "        A_c: (lambda_c - erreps) I_n, sparse diagonal nxn matrix. I_n is nxn identity matrix\n",
    "        A_p: (lambda_p - erreps) I_n, sparse diagonal nxn matrix. I_n is nxn identity matrix\n",
    "        s_p: nx1 random vector drawn from Negative binomial distribution (for parent)\n",
    "        s_c: nx1 random vector drawn from Negative binomial distribution (for child)\n",
    "        TODO: add mu and var\n",
    "        for i in {P (parent), H (inherited), N (novel)}:\n",
    "        z_i: nx1 indicator vector of homogeneous structural variants\n",
    "        y_i: nx1 indicator vector of heterogeneous structural variants\n",
    "        \n",
    "    '''\n",
    "    q = np.random.permutation(params['n'])\n",
    "    #print(q)\n",
    "    startVal = int(params['k']*params['pctNovel']); print(startVal)\n",
    "    endVal = int(startVal +params['k']) ; print(endVal)\n",
    "\n",
    "    f_p, f_c, f_h, f_n = np.zeros((params['n'],1), dtype=np.int8),np.zeros((params['n'],1), dtype=np.int8), np.zeros((params['n'],1), dtype=np.int8), np.zeros((params['n'],1), dtype=np.int8)\n",
    "    f_p[q[: params['k']]], f_c[q[startVal:endVal]] = 1,1\n",
    "    f_h[q[startVal:params['k']+1]], f_n[q[params['k']+1:endVal]] = 1,1\n",
    "    \n",
    "    \n",
    "    d = {}\n",
    "    d['f_p'] = f_p; d['f_h'] = f_h; d['f_n'] = f_n; d['f_c'] = f_h + f_n; \n",
    "    for i, letter in enumerate(params['suffix']):\n",
    "        d['A_%s'%letter]   = (params[\"lambda_%s\"%letter] - params['erreps'])*sparse.eye(params['n'])\n",
    "        d['mu_%s'%letter]  = np.matmul(d['A_%s'%letter].toarray(), d['f_%s'%letter]) + params['erreps']\n",
    "        d['var_%s'%letter] = d['mu_%s'%letter] +(1/params['r'])*(d['mu_%s'%letter]**2)\n",
    "        d['s_%s'%letter]   = np.random.negative_binomial(d['mu_%s'%letter]/(d['var_%s'%letter]-d['mu_%s'%letter]),d['mu_%s'%letter]/d['var_%s'%letter])\n",
    "    \n",
    "    \n",
    "    return d"
   ]
  },
  {
   "cell_type": "code",
   "execution_count": 7,
   "id": "667f86c3",
   "metadata": {},
   "outputs": [],
   "source": [
    "params = {\n",
    "    'r': 1,\n",
    "    'n': 10**2,\n",
    "    'k': 10,\n",
    "    'lambda_c': 4,\n",
    "    'lambda_p': 8,\n",
    "    'pctNovel': 0.15,\n",
    "    'erreps'  : 1e-2,\n",
    "    'suffix'  : ['p','c'],\n",
    "    'pct_similarity': 0.6}"
   ]
  },
  {
   "cell_type": "code",
   "execution_count": 8,
   "id": "c7e907ed-646a-46fe-84d1-9e4fe5743cea",
   "metadata": {},
   "outputs": [
    {
     "name": "stdout",
     "output_type": "stream",
     "text": [
      "1\n",
      "11\n"
     ]
    }
   ],
   "source": [
    "data = generate_haploid_data(params)"
   ]
  },
  {
   "cell_type": "code",
   "execution_count": 32,
   "id": "6f8c5c62",
   "metadata": {},
   "outputs": [
    {
     "name": "stdout",
     "output_type": "stream",
     "text": [
      "[33 25 36  1 55 98 10  5 42 77  2 34 39 75 58 49 28 26 18 73 80 82  4 15\n",
      " 29 95 40 17  0 99 47 67 86 69 27 70 88 79 53 48 60 37 13 19 66 96 61 46\n",
      " 85 93 20  7 31 64 16 71 32 14 45  3  6 24 91 87  8 44 41 52 97 94 78 74\n",
      " 90 72 23 35 51 54 81 43 76 63 83  9 68 30 89 84 21 92 62 38 57 65 22 11\n",
      " 12 59 56 50]\n",
      "1\n",
      "11\n",
      "['z_p', 'z_n', 'z_h', 'y_p', 'y_n', 'y_h', 'f_p2', 'f_p', 'f_n', 'f_h', 'f_c']\n"
     ]
    }
   ],
   "source": [
    "q = np.random.permutation(params['n'])\n",
    "print(q)\n",
    "startVal = int(params['k']*params['pctNovel']); print(startVal)\n",
    "endVal = int(startVal +params['k']) ; print(endVal)\n",
    "similarity = int(params['pct_similarity']* params['k']) # pct_similarity * number of SVs\n",
    "\n",
    "signals = ['f_p2', 'f_c']\n",
    "for i,letter in enumerate(['p', 'h', 'n']):\n",
    "    signals.append('f_%s'%letter)\n",
    "    signals.append('z_%s'%letter)\n",
    "    signals.append('y_%s'%letter)\n",
    "signals.sort(reverse=True)\n",
    "print(signals)\n",
    "# Initialize signals\n",
    "d= {}\n",
    "for signal in signals: d[signal] = np.zeros((params['n'],1), dtype=np.int32)\n",
    "\n",
    "# # parent signals: \n",
    "# #        f_p  - k elements will be 1s and 2s randomly selected\n",
    "# #        f_p2 - floor of %similarity*k elements will be the same as f_p and the rest will be random 1s and 2s\n",
    "# for i in q[:params['k']]: f_p[i] = np.random.randint(1,3) \n",
    "# f_p2[q[0:similarity]] = f_p[q[0:similarity]]\n",
    "# f_p2[random.choices(q, k=params['k'] -similarity)]= np.random.randint(1,3) \n",
    "\n",
    "# # child signal\n",
    "# #     inherited\n",
    "# for i in np.arange(f_p.shape[0]):\n",
    "#     if f_p[i]==2 and f_p2[i]==2: f_c[i]=2\n",
    "#     if (f_p[i]>=1 and f_p2[i]>=1):\n",
    "#         if np.random.random_sample() >= 0.5: f_c[i]=2\n",
    "#         else: f_c[i]=1\n",
    "# #     novel        \n",
    "# f_c[random.choices(q, k=params['k'] -similarity)]= np.random.randint(1,3) \n",
    "\n",
    "# d = {}\n",
    "# d['f_p'] = f_p; d['f_h'] = f_h; d['f_n'] = f_n; d['f_c'] = f_h + f_n; "
   ]
  },
  {
   "cell_type": "code",
   "execution_count": 30,
   "id": "e95b0078-22e6-4bfb-8fc0-15cbf36cb718",
   "metadata": {},
   "outputs": [
    {
     "name": "stdout",
     "output_type": "stream",
     "text": [
      "['y_h', 'y_n', 'y_p', 'z_h', 'z_n', 'z_p']\n"
     ]
    }
   ],
   "source": [
    "signals = []\n",
    "for i,letter in enumerate(['p', 'h', 'n']):\n",
    "    signals.append('z_%s'%letter)\n",
    "    signals.append('y_%s'%letter)\n",
    "signals.sort()\n",
    "print(signals)"
   ]
  },
  {
   "cell_type": "code",
   "execution_count": null,
   "id": "77388739-9fab-4f16-b96e-d1c488e10a6d",
   "metadata": {},
   "outputs": [],
   "source": []
  },
  {
   "cell_type": "code",
   "execution_count": null,
   "id": "d3d58b7a-9c03-4bc3-9882-abb6ebd91ef2",
   "metadata": {},
   "outputs": [],
   "source": []
  },
  {
   "cell_type": "code",
   "execution_count": null,
   "id": "e4bf53a5-f235-4db6-9f4d-ffddf6b38547",
   "metadata": {},
   "outputs": [],
   "source": [
    "params['k'] -similarity"
   ]
  },
  {
   "cell_type": "code",
   "execution_count": null,
   "id": "febad58e-4cbe-4908-8fae-df005197e433",
   "metadata": {},
   "outputs": [],
   "source": [
    "np.transpose(f_p)"
   ]
  },
  {
   "cell_type": "code",
   "execution_count": null,
   "id": "5fae0bd0-d2f4-4454-b821-9fadaadd5ed4",
   "metadata": {},
   "outputs": [],
   "source": [
    "np.transpose(f_p2)"
   ]
  },
  {
   "cell_type": "code",
   "execution_count": null,
   "id": "4572f345",
   "metadata": {},
   "outputs": [],
   "source": [
    "for i in np.arange(f_p.shape[0]):\n",
    "    if f_p[i]==2 and f_p2[i]==2: f_c[i]=2\n",
    "    if (f_p[i]>=1 and f_p2[i]>=1):\n",
    "        if np.random.random_sample() >= 0.5: f_c[i]=2\n",
    "        else: f_c[i]=1\n",
    "print(f_c[np.nonzero(f_c > 0)])"
   ]
  },
  {
   "cell_type": "code",
   "execution_count": null,
   "id": "3b551b73",
   "metadata": {},
   "outputs": [],
   "source": [
    "for i in np.arange(f_p.shape[0]):    \n",
    "    if (f_p[i]>=1 and f_p2[i]>=1) : print(f_p[i], f_p2[i])"
   ]
  },
  {
   "cell_type": "code",
   "execution_count": null,
   "id": "de44d6cd-ea9a-4287-9844-88932c5f321c",
   "metadata": {},
   "outputs": [],
   "source": [
    "f_c[random.choices(q, k=params['k'] -similarity)]= np.random.randint(1,3) "
   ]
  },
  {
   "cell_type": "code",
   "execution_count": null,
   "id": "843c8af1-7108-4a04-b03a-c27d741ac149",
   "metadata": {},
   "outputs": [],
   "source": [
    "f_p[np.nonzero(f_p > 0)]"
   ]
  },
  {
   "cell_type": "code",
   "execution_count": null,
   "id": "cea21d7f-8259-4335-a5da-9bfe7359463e",
   "metadata": {},
   "outputs": [],
   "source": [
    "f_p2[np.nonzero(f_p2 > 0)]"
   ]
  },
  {
   "cell_type": "code",
   "execution_count": null,
   "id": "345a182d-4ae6-45af-989b-96886fc044d3",
   "metadata": {},
   "outputs": [],
   "source": [
    "f_c[np.nonzero(f_c > 0)]"
   ]
  },
  {
   "cell_type": "code",
   "execution_count": null,
   "id": "19f9b390-65d6-4e56-b37e-0ffa574a3ba2",
   "metadata": {},
   "outputs": [],
   "source": [
    "np.transpose(f_c)"
   ]
  },
  {
   "cell_type": "code",
   "execution_count": null,
   "id": "dc5ef478-4e59-46bb-8432-b5dc98d36ae3",
   "metadata": {},
   "outputs": [],
   "source": [
    "z_c, y_c = np.zeros((params['n'],1), dtype=np.int32), np.zeros((params['n'],1), dtype=np.int32)"
   ]
  },
  {
   "cell_type": "code",
   "execution_count": null,
   "id": "e1571897-3a16-428f-9cc0-525ca0631705",
   "metadata": {},
   "outputs": [],
   "source": [
    "for i in np.arange(f_c.shape[0]):\n",
    "    if   f_c[i]==2: z_c[i]=1\n",
    "    elif f_c[i]==1: y_c[i]=1\n",
    "np.transpose(z_c)"
   ]
  },
  {
   "cell_type": "code",
   "execution_count": null,
   "id": "6a5749c9-074c-4058-a859-30f7525ce1c3",
   "metadata": {},
   "outputs": [],
   "source": [
    "np.transpose(y_c)"
   ]
  },
  {
   "cell_type": "code",
   "execution_count": null,
   "id": "66885fa0-484c-4881-b59b-5988dcdbde16",
   "metadata": {},
   "outputs": [],
   "source": []
  }
 ],
 "metadata": {
  "kernelspec": {
   "display_name": "Python 3 (ipykernel)",
   "language": "python",
   "name": "python3"
  },
  "language_info": {
   "codemirror_mode": {
    "name": "ipython",
    "version": 3
   },
   "file_extension": ".py",
   "mimetype": "text/x-python",
   "name": "python",
   "nbconvert_exporter": "python",
   "pygments_lexer": "ipython3",
   "version": "3.9.7"
  }
 },
 "nbformat": 4,
 "nbformat_minor": 5
}
