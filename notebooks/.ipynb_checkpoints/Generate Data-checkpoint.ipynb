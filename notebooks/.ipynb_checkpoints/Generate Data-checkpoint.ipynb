{
 "cells": [
  {
   "cell_type": "code",
   "execution_count": 1,
   "id": "b237fa45",
   "metadata": {},
   "outputs": [],
   "source": [
    "# Automatically reload modules\n",
    "%load_ext autoreload\n",
    "%autoreload 2\n",
    "\n",
    "# Show matplotlib plots inline\n",
    "%matplotlib inline"
   ]
  },
  {
   "cell_type": "code",
   "execution_count": 2,
   "id": "416291d7",
   "metadata": {},
   "outputs": [
    {
     "name": "stdout",
     "output_type": "stream",
     "text": [
      "Using path =  /Users/jocelynornelasmunoz/Desktop/Research/structural_variants/\n"
     ]
    }
   ],
   "source": [
    "import os, sys\n",
    "desktop_path = '/Users/jocelynornelasmunoz/Desktop/Research/structural_variants/'\n",
    "laptop_path = '/Users/jocelynornelas/iCloud Drive (Archive)/Desktop/UC Merced/Research/structural_variants/'\n",
    "if desktop_path in sys.path[0]: sys.path.insert(0, desktop_path + 'lib/'); path = desktop_path\n",
    "elif laptop_path in sys.path[0]: sys.path.insert(0, laptop_path + 'lib/'); path = laptop_path\n",
    "print('Using path = ', path)\n",
    "import generate_data as gd\n",
    "import numpy as np\n",
    "import pandas as pd\n",
    "import matplotlib.pyplot as plt\n",
    "from scipy import sparse\n",
    "from scipy.io import savemat\n",
    "import sympy\n",
    "import random\n",
    "# MATLAB\n",
    "# import matlab.engine\n",
    "# import matlab\n",
    "# print(matlab.__file__)\n",
    "# eng = matlab.engine.start_matlab()"
   ]
  },
  {
   "cell_type": "markdown",
   "id": "eeed1f8e",
   "metadata": {
    "tags": []
   },
   "source": [
    "# Generate data and save to `.mat` file\n",
    "1. Define the set of parameters\n",
    "2. Generate diploid data\n",
    "3. Save to `.mat` file"
   ]
  },
  {
   "cell_type": "code",
   "execution_count": 3,
   "id": "0d4b93da",
   "metadata": {
    "tags": []
   },
   "outputs": [],
   "source": [
    "params = {\n",
    "    'r': 1,\n",
    "    'n': 10**5,\n",
    "    'k': 500,\n",
    "    'lambda_c': 4,\n",
    "    'lambda_p': 4,\n",
    "    'pctNovel': 0.05,\n",
    "    'erreps'  : 1e-2,\n",
    "    'pct_similarity': 0.5}"
   ]
  },
  {
   "cell_type": "code",
   "execution_count": 4,
   "id": "731de405",
   "metadata": {
    "tags": []
   },
   "outputs": [
    {
     "name": "stdout",
     "output_type": "stream",
     "text": [
      "Using seed 10 \n",
      "Generating data...\n",
      "Done!\n",
      "\n",
      "Using parameters:\n",
      "\t r :  1\n",
      "\t n :  100000\n",
      "\t k :  500\n",
      "\t lambda_c :  4\n",
      "\t lambda_p :  4\n",
      "\t pctNovel :  0.05\n",
      "\t erreps :  0.01\n",
      "\t pct_similarity :  0.5\n",
      "CPU times: user 59.8 s, sys: 1min 37s, total: 2min 37s\n",
      "Wall time: 1min 9s\n"
     ]
    }
   ],
   "source": [
    "%%time\n",
    "save_path = (path + 'data/diploid_%ipctNovel_%ik_%in.mat')%(int(params['pctNovel']*100),params['k'],params['n'])\n",
    "data = gd.generate_diploid_data(params, seed=None, filepath=save_path)\n",
    "%savemat( save_path, data)"
   ]
  },
  {
   "cell_type": "code",
   "execution_count": 5,
   "id": "20b6ab7f",
   "metadata": {},
   "outputs": [
    {
     "data": {
      "text/plain": [
       "'/Users/jocelynornelasmunoz/Desktop/Research/structural_variants/data/diploid_5pctNovel_500k_100000n.mat'"
      ]
     },
     "execution_count": 5,
     "metadata": {},
     "output_type": "execute_result"
    }
   ],
   "source": [
    "(path + 'data/diploid_%ipctNovel_%ik_%in.mat')%(int(params['pctNovel']*100),params['k'],params['n'])"
   ]
  },
  {
   "cell_type": "code",
   "execution_count": 4,
   "id": "2a68ff1e",
   "metadata": {},
   "outputs": [
    {
     "name": "stdout",
     "output_type": "stream",
     "text": [
      "2\n",
      "12\n",
      "Done!\n",
      "\n",
      "Using parameters:\n",
      "\t r :  1\n",
      "\t n :  100\n",
      "\t k :  10\n",
      "\t lambda_c :  4\n",
      "\t lambda_p :  4\n",
      "\t pctNovel :  0.2\n",
      "\t erreps :  0.01\n",
      "\t pct_similarity :  0.5\n",
      "\t q :  [80 84 33 81 93 17 36 82 69 65 92 39 56 52 51 32 31 44 78 10  2 73 97 62\n",
      " 19 35 94 27 46 38 67 99 54 95 88 40 48 59 23 34 86 53 77 15 83 41 45 91\n",
      " 26 98 43 55 24  4 58 49 21 87  3 74 30 66 70 42 47 89  8 60  0 90 57 22\n",
      " 61 63  7 96 13 68 85 14 29 28 11 18 20 50 25  6 71 76  1 16 64 79  5 75\n",
      "  9 72 12 37]\n",
      "CPU times: user 3.37 ms, sys: 2.1 ms, total: 5.47 ms\n",
      "Wall time: 6.18 ms\n"
     ]
    }
   ],
   "source": [
    "%%time\n",
    "data = gd.generate_haploid_data(params, seed=1)"
   ]
  },
  {
   "cell_type": "code",
   "execution_count": 11,
   "id": "04fa5e5f",
   "metadata": {},
   "outputs": [
    {
     "name": "stdout",
     "output_type": "stream",
     "text": [
      "/Users/jocelynornelas/iCloud Drive (Archive)/Desktop/UC Merced/Research/structural_variants/data/haploid_20pctNovel_10k_100n_reproducedAPL.mat\n"
     ]
    }
   ],
   "source": [
    "kind = 'haploid'\n",
    "outpath = (path + 'data/%s_%ipctNovel_%ik_%in_reproducedAPL.mat')%(kind,int(params['pctNovel']*100),params['k'],params['n'])\n",
    "savemat(outpath, data)\n",
    "print(outpath)"
   ]
  },
  {
   "cell_type": "markdown",
   "id": "2f99088b",
   "metadata": {
    "jupyter": {
     "outputs_hidden": true
    },
    "tags": []
   },
   "source": [
    "## Look at generated data"
   ]
  },
  {
   "cell_type": "code",
   "execution_count": 5,
   "id": "c953d9d4",
   "metadata": {},
   "outputs": [
    {
     "data": {
      "text/plain": [
       "dict_keys(['f_p', 'f_h', 'f_n', 'f_c', 'A_p', 'mu_p', 'var_p', 's_p', 'A_c', 'mu_c', 'var_c', 's_c', 'r', 'n', 'k', 'lambda_c', 'lambda_p', 'pctNovel', 'erreps', 'pct_similarity', 'q'])"
      ]
     },
     "execution_count": 5,
     "metadata": {},
     "output_type": "execute_result"
    }
   ],
   "source": [
    "# Shows what variables will be saved\n",
    "data.keys()"
   ]
  },
  {
   "cell_type": "code",
   "execution_count": 6,
   "id": "28ddd662",
   "metadata": {},
   "outputs": [
    {
     "name": "stdout",
     "output_type": "stream",
     "text": [
      "Nonzero counts for vector signals\n",
      "f_p:  10\n",
      "f_c:  10\n",
      "f_h:  8\n",
      "f_n:  2\n"
     ]
    }
   ],
   "source": [
    "print('Nonzero counts for vector signals')\n",
    "\n",
    "print('f_p: ',np.count_nonzero(data['f_p']))\n",
    "print('f_c: ',np.count_nonzero(data['f_c']))\n",
    "print('f_h: ',np.count_nonzero(data['f_h']))\n",
    "print('f_n: ',np.count_nonzero(data['f_n']))"
   ]
  },
  {
   "cell_type": "code",
   "execution_count": 16,
   "id": "1b01f201",
   "metadata": {},
   "outputs": [
    {
     "data": {
      "image/png": "[encoded data removed]",
      "text/plain": [
       "<Figure size 1080x720 with 4 Axes>"
      ]
     },
     "metadata": {
      "needs_background": "light"
     },
     "output_type": "display_data"
    }
   ],
   "source": [
    "# Plot histograms of mean and variance of TRUE data\n",
    "fig, ((ax0, ax1), (ax2, ax3)) = plt.subplots(nrows=2, ncols=2)\n",
    "stacked_mu  = np.reshape(np.stack((data['mu_c'], data['mu_p']), axis=1), (data['mu_c'].shape[0],2))\n",
    "stacked_var = np.reshape(np.stack((data['var_c'], data['var_p']), axis=1), (data['var_c'].shape[0],2))\n",
    "stacked_p = np.reshape(np.stack((data['f_p'], data['s_p']), axis=1), (data['f_p'].shape[0],2))\n",
    "stacked_c = np.reshape(np.stack((data['f_c'], data['s_c']), axis=1), (data['f_c'].shape[0],2))\n",
    "\n",
    "colors = ['blue', 'orange']\n",
    "ax0.hist(stacked_mu, 10, density=True, histtype='bar', color=colors, label=['mu_c = %s'%str(4), 'mu_p = %s'%str(4)])\n",
    "ax0.legend(prop={'size': 10})\n",
    "ax0.set_title('Average coverage: mu')\n",
    "ax0.set_xlabel('mu values')\n",
    "#ax0.set_xlim([0, 5]); ax0.set_ylim([0, 2.5])\n",
    "\n",
    "ax1.hist(stacked_var, 10, density=True, histtype='bar', color=colors, label=['var_c', 'var_p'])\n",
    "ax1.legend(prop={'size': 10})\n",
    "ax1.set_title('Variance in coverage: var')\n",
    "ax1.set_xlabel('var values')\n",
    "#ax1.set_xlim([0, 5]); ax1.set_ylim([0, 2.5])\n",
    "\n",
    "ax2.hist(stacked_p, 10, density=True, histtype='bar', color=['orange','wheat'], label=['truth', 'obs'])\n",
    "ax2.legend(prop={'size': 10})\n",
    "ax2.set_title('Parent signal')\n",
    "\n",
    "ax3.hist(stacked_c, 10, density=True, histtype='bar', color=['dodgerblue','lightsteelblue'], label=['truth', 'obs'])\n",
    "ax3.legend(prop={'size': 10})\n",
    "ax3.set_title('Child signal')\n",
    "\n",
    "fig.set_size_inches(15, 10)\n",
    "fig.tight_layout()\n",
    "plt.show()"
   ]
  },
  {
   "cell_type": "code",
   "execution_count": null,
   "id": "4dadc72a",
   "metadata": {},
   "outputs": [],
   "source": [
    "prnt=True\n",
    "# First, we randomly permute a sequence (1,2,3,...n)\n",
    "q = np.random.permutation(np.arange(1,params['n']+1))\n",
    "\n",
    "\n",
    "startVal = int(params['k']*params['pctNovel']); #print(startVal)\n",
    "endVal = int(startVal +params['k']) ; #print(endVal)\n",
    "similarity = int(params['pct_similarity']* params['k']) # pct_similarity * number of SVs\n",
    "\n",
    "\n",
    "# Create signal variables and initialize signal vectors with all zeros\n",
    "signals = ['f_p2', 'f_c']\n",
    "for i,letter in enumerate(['p', 'h', 'n']):\n",
    "    signals.append('f_%s'%letter)\n",
    "    signals.append('z_%s'%letter)\n",
    "    signals.append('y_%s'%letter)\n",
    "\n",
    "d= {}\n",
    "for signal in signals: d[signal] = np.zeros((params['n'],1), dtype=np.int32)\n",
    "if prnt: print('Signals initialized: ', [key for key in d.keys()])\n",
    "\n",
    "# Parent signals: \n",
    "#        f_p  - k elements will be 1s and 2s randomly selected\n",
    "#        f_p2 - floor of %similarity*k elements will be the same as f_p and the rest will be random 1s and 2s\n",
    "#               (i.e. the parents will only share a given percentage of SV's)\n",
    "\n",
    "# Insert k number of 1's and 2's in the first parent\n",
    "for i in q[:params['k']]: d['f_p'][i] = np.random.randint(1,3) \n",
    "\n",
    "# parent 2 shares similarity number of SV's with parent 1, \n",
    "# q[0:similarity] is the positions for which both parents will share SV's\n",
    "# the remaining k - similarity positions will be chosen randomly as to not overlap with existing SVs\n",
    "rand_choices = np.random.choice(np.setdiff1d(q, q[0:similarity]), size=params['k'] -similarity, replace= False); #rand_choices.sort(); q[0:similarity].sort()\n",
    "d['f_p2'][q[0:similarity]] = d['f_p'][q[0:similarity]]\n",
    "d['f_p2'][rand_choices]= np.random.randint(1,3) \n",
    "\n",
    "# verify that both parents have the same amount of nonzero entries\n",
    "if np.count_nonzero(d['f_p2']) != np.count_nonzero(d['f_p']): \n",
    "    print('PARENTS DO NOT HAVE EQUAL AMOUNT OF NONZERO ENTRIES !!')\n",
    "    print('f_p: {} \\nf_p2: {}'.format(np.count_nonzero(d['f_p']),np.count_nonzero(d['f_p2'])))\n",
    "\n",
    "\n",
    "# Child signal\n",
    "#     First, we defined the inherited SVs through a logical implementation \n",
    "#     of inheritance using parent 1 (f_p) and parent 2 (f_p2)\n",
    "for i in np.arange(d['f_p'].shape[0]):\n",
    "    if   (d['f_p'][i]==2 and d['f_p2'][i]==2): d['f_h'][i]= 2\n",
    "    elif (d['f_p'][i]==1 and d['f_p2'][i]==1): d['f_h'][i]= np.random.randint(0,3)\n",
    "    elif (d['f_p'][i]==2 and d['f_p2'][i]==0) or (d['f_p'][i]==0 and d['f_p2'][i]==2): d['f_h'][i]= 1\n",
    "    elif (d['f_p'][i]==2 and d['f_p2'][i]==1) or (d['f_p'][i]==1 and d['f_p2'][i]==2): d['f_h'][i]= np.random.randint(1,3)\n",
    "    elif (d['f_p'][i]==1 and d['f_p2'][i]==0) or (d['f_p'][i]==0 and d['f_p2'][i]==1): d['f_h'][i]= np.random.randint(0,2)\n",
    "\n",
    "#    Next, we define the novel SVs \n",
    "#    define inherited indices and novel indices, make sure they do not overlap\n",
    "inherited_pos = d['f_h'].nonzero()[0]; inherited_pos.sort()\n",
    "novel_pos = np.random.choice(np.setdiff1d(q, inherited_pos), size=int(params['k'] *params['pctNovel']), replace= False)\n",
    "d['f_n'][novel_pos]= np.random.randint(1,3) \n",
    "\n",
    "#    Lastly, we define the complete child signal\n",
    "d['f_c'] = d['f_h'] + d['f_n']"
   ]
  },
  {
   "cell_type": "code",
   "execution_count": null,
   "id": "768bd3b4",
   "metadata": {},
   "outputs": [],
   "source": [
    "# positions for which both parents will share SV's\n",
    "q[0:similarity]"
   ]
  },
  {
   "cell_type": "code",
   "execution_count": null,
   "id": "50d51e9b",
   "metadata": {},
   "outputs": [],
   "source": [
    "# parent 2 shares similarity number of SV's with parent 1\n",
    "#d['f_p2'][q[0:similarity]] = d['f_p'][q[0:similarity]]\n",
    "#d['f_p2'][q[0:similarity]]\n",
    "d['f_p2'].transpose()"
   ]
  },
  {
   "cell_type": "code",
   "execution_count": null,
   "id": "cae6ec08",
   "metadata": {},
   "outputs": [],
   "source": [
    "rand_choices = np.random.choice(q, size=params['k'] -similarity, replace= False)\n",
    "rand_choices.sort()\n",
    "print(rand_choices)"
   ]
  },
  {
   "cell_type": "code",
   "execution_count": null,
   "id": "7d334f1c",
   "metadata": {},
   "outputs": [],
   "source": [
    "(q[0:similarity]).sort()\n",
    "q[0:similarity]"
   ]
  },
  {
   "cell_type": "code",
   "execution_count": null,
   "id": "afe78a7d",
   "metadata": {},
   "outputs": [],
   "source": [
    "q[0:similarity] == rand_choices"
   ]
  },
  {
   "cell_type": "code",
   "execution_count": null,
   "id": "4d79fa18",
   "metadata": {},
   "outputs": [],
   "source": [
    "(q[0:similarity]).sort()"
   ]
  },
  {
   "cell_type": "code",
   "execution_count": null,
   "id": "e66bfc6b",
   "metadata": {},
   "outputs": [],
   "source": [
    "for i in q[0:similarity]:\n",
    "    print(i)"
   ]
  },
  {
   "cell_type": "code",
   "execution_count": null,
   "id": "a6a0c80f",
   "metadata": {},
   "outputs": [],
   "source": [
    "for i, j in enumerate(q[0:similarity]): print(i,j)"
   ]
  },
  {
   "cell_type": "code",
   "execution_count": null,
   "id": "9ae5eeda",
   "metadata": {},
   "outputs": [],
   "source": [
    "# trying to make sure similarity positions are not overwritten in parent 2\n",
    "# \n",
    "for i, val in enumerate(q[0:similarity]): \n",
    "    if val not in rand_choices:\n",
    "        pass \n",
    "        print('good: ', val)\n",
    "    else: \n",
    "        rand_choices[i] = np.random.choice(q) \n",
    "        print('position now: ', rand_choices[i])"
   ]
  },
  {
   "cell_type": "code",
   "execution_count": null,
   "id": "d717c3e9",
   "metadata": {},
   "outputs": [],
   "source": [
    "d['f_p2'][rand_choices]= np.random.randint(1,3) \n",
    "d['f_p2'][rand_choices]"
   ]
  },
  {
   "cell_type": "code",
   "execution_count": null,
   "id": "692c692d",
   "metadata": {},
   "outputs": [],
   "source": [
    "d['f_p'][rand_choices]"
   ]
  },
  {
   "cell_type": "code",
   "execution_count": null,
   "id": "767036b3",
   "metadata": {},
   "outputs": [],
   "source": [
    "#np.count_nonzero(d['f_p2']) \n",
    "np.count_nonzero(d['f_c'])"
   ]
  },
  {
   "cell_type": "code",
   "execution_count": null,
   "id": "13d5c5db",
   "metadata": {},
   "outputs": [],
   "source": [
    "if np.count_nonzero(d['f_p2']) != np.count_nonzero(d['f_p']): \n",
    "    print('PARENTS DO NOT HAVE EQUAL AMOUNT OF NONZERO ENTRIES !!')\n",
    "    print('f_p: {} \\nf_p2: {}'.format(np.count_nonzero(d['f_p']),np.count_nonzero(d['f_p2'])))"
   ]
  },
  {
   "cell_type": "code",
   "execution_count": null,
   "id": "48d83b70",
   "metadata": {},
   "outputs": [],
   "source": [
    "for i in np.arange(d['f_p'].shape[0]):\n",
    "    if   (d['f_p'][i]==2 and d['f_p2'][i]==2): d['f_h'][i]= 2\n",
    "    elif (d['f_p'][i]==1 and d['f_p2'][i]==1): d['f_h'][i]= np.random.randint(0,3)\n",
    "    elif (d['f_p'][i]==2 and d['f_p2'][i]==0) or (d['f_p'][i]==0 and d['f_p2'][i]==2): d['f_h'][i]= 1\n",
    "    elif (d['f_p'][i]==2 and d['f_p2'][i]==1) or (d['f_p'][i]==1 and d['f_p2'][i]==2): d['f_h'][i]= np.random.randint(1,3)\n",
    "    elif (d['f_p'][i]==1 and d['f_p2'][i]==0) or (d['f_p'][i]==0 and d['f_p2'][i]==1): d['f_h'][i]= np.random.randint(0,2)\n",
    "d['f_h'].transpose()"
   ]
  },
  {
   "cell_type": "code",
   "execution_count": null,
   "id": "c30fe5ce",
   "metadata": {},
   "outputs": [],
   "source": [
    "inherited_pos = d['f_h'].nonzero()[0]; inherited_pos.sort()\n",
    "inherited_pos"
   ]
  },
  {
   "cell_type": "code",
   "execution_count": null,
   "id": "a3dc5768",
   "metadata": {},
   "outputs": [],
   "source": [
    "novel_pos = np.random.choice(q, size=int(params['k'] *params['pctNovel']), replace= False); novel_pos.sort()\n",
    "novel_pos"
   ]
  },
  {
   "cell_type": "code",
   "execution_count": null,
   "id": "7190c89d",
   "metadata": {},
   "outputs": [],
   "source": [
    "inherited_pos[np.where(inherited_pos == 27)[0]] = np.random.choice(q)\n",
    "inherited_pos"
   ]
  },
  {
   "cell_type": "code",
   "execution_count": null,
   "id": "ef4f1303",
   "metadata": {},
   "outputs": [],
   "source": [
    "novel_pos = np.array([15,17])"
   ]
  },
  {
   "cell_type": "code",
   "execution_count": null,
   "id": "0143f3bc",
   "metadata": {},
   "outputs": [],
   "source": [
    "for i, val in enumerate(novel_pos):\n",
    "    if val not in inherited_pos:\n",
    "        pass \n",
    "        print(val, ' from novel not in inherited')\n",
    "    else: \n",
    "        novel_pos[i] = np.random.choice(q)\n",
    "        #inherited_pos[np.where(inherited_pos == val)[0]] = np.random.choice(q)\n",
    "        print('not good')"
   ]
  },
  {
   "cell_type": "code",
   "execution_count": null,
   "id": "5f7293ee",
   "metadata": {},
   "outputs": [],
   "source": []
  },
  {
   "cell_type": "code",
   "execution_count": null,
   "id": "3062f22e",
   "metadata": {},
   "outputs": [],
   "source": []
  },
  {
   "cell_type": "code",
   "execution_count": null,
   "id": "95033e5d",
   "metadata": {},
   "outputs": [],
   "source": []
  },
  {
   "cell_type": "code",
   "execution_count": null,
   "id": "1a4d9d9b",
   "metadata": {},
   "outputs": [],
   "source": [
    "np.count_nonzero(d['f_c'])"
   ]
  },
  {
   "cell_type": "code",
   "execution_count": 14,
   "id": "c5194b3d",
   "metadata": {},
   "outputs": [
    {
     "data": {
      "text/plain": [
       "90"
      ]
     },
     "execution_count": 14,
     "metadata": {},
     "output_type": "execute_result"
    }
   ],
   "source": [
    "np.count_nonzero(data['mu_c'][data['mu_c'] == 0.01])"
   ]
  },
  {
   "cell_type": "markdown",
   "id": "56dd3125",
   "metadata": {
    "tags": []
   },
   "source": [
    "# Load Andrew's data to visualize (?)"
   ]
  },
  {
   "cell_type": "code",
   "execution_count": 17,
   "id": "29f8a06b",
   "metadata": {},
   "outputs": [],
   "source": [
    "import scipy.io\n",
    "mat = scipy.io.loadmat(path + 'lib/old/neg_binom_nov_p4_c4_20perNov.mat') "
   ]
  },
  {
   "cell_type": "code",
   "execution_count": 20,
   "id": "517d938a",
   "metadata": {},
   "outputs": [
    {
     "data": {
      "text/plain": [
       "dict_keys(['__header__', '__version__', '__globals__', 'A_c_neg_binom', 'A_p_neg_binom', 'datname', 'endVal', 'erreps', 'f_c_inh_neg_binom', 'f_c_neg_binom', 'f_c_nov_neg_binom', 'f_p_neg_binom', 'k', 'lambda_c', 'lambda_p', 'mu_c', 'mu_p', 'n', 'pctNovel', 'q', 'r', 'startVal', 'var_c', 'var_p', 'y_c_neg_binom', 'y_p_neg_binom'])"
      ]
     },
     "execution_count": 20,
     "metadata": {},
     "output_type": "execute_result"
    }
   ],
   "source": [
    "mat.keys()"
   ]
  },
  {
   "cell_type": "code",
   "execution_count": 39,
   "id": "4065bfbd",
   "metadata": {},
   "outputs": [
    {
     "data": {
      "image/png": "[encoded data removed]",
      "text/plain": [
       "<Figure size 1080x720 with 4 Axes>"
      ]
     },
     "metadata": {
      "needs_background": "light"
     },
     "output_type": "display_data"
    }
   ],
   "source": [
    "# Plot histograms of mean and variance of TRUE data\n",
    "fig, ((ax0, ax1), (ax2, ax3)) = plt.subplots(nrows=2, ncols=2)\n",
    "stacked_mu  = np.reshape(np.stack((data['mu_c'], mat['mu_c']), axis=1), (data['mu_c'].shape[0],2))\n",
    "stacked_var = np.reshape(np.stack((data['var_c'], mat['var_c']), axis=1), (data['var_c'].shape[0],2))\n",
    "stacked_p = np.reshape(np.stack((data['f_p'], data['s_p'],mat['y_p_neg_binom']), axis=1), (data['f_p'].shape[0],3))\n",
    "stacked_c = np.reshape(np.stack((data['f_c'], data['s_c'],mat['y_c_neg_binom']), axis=1), (data['f_c'].shape[0],3))\n",
    "\n",
    "colors = ['blue', 'orange']\n",
    "legend1 = ['Python mu_c = %s'%str(4), 'MATLAB mu_c = %s'%str(4)]\n",
    "ax0.hist(stacked_mu, 5, density=False, histtype='bar', color=colors, label=legend1)\n",
    "ax0.legend(prop={'size': 10})\n",
    "ax0.set_title('Average coverage: mu')\n",
    "ax0.set_xlabel('mu values')\n",
    "ax0.set_ylabel('counts')\n",
    "#ax0.set_xlim([0, 5]); ax0.set_ylim([0, 2.5])\n",
    "#ax0.set_yscale('log')\n",
    "\n",
    "label2 = ['Python var_c', 'MATLAB var_c']\n",
    "ax1.hist(stacked_var, 5, density=False, histtype='bar', color=colors, label=label2)\n",
    "ax1.legend(prop={'size': 10})\n",
    "ax1.set_title('Variance in coverage: var')\n",
    "ax1.set_xlabel('var values')\n",
    "ax1.set_ylabel('counts')\n",
    "#ax1.set_xlim([0, 5]); ax1.set_ylim([0, 2.5])\n",
    "\n",
    "colors2 = ['forestgreen','orange','wheat']\n",
    "labels_signal = ['Truth','Python obs', 'MATLAB obs']\n",
    "ax2.hist(stacked_p, 10, density=False, histtype='bar', color=colors2, label=labels_signal)\n",
    "ax2.legend(prop={'size': 10})\n",
    "ax2.set_title('Parent signal')\n",
    "ax2.set_xlabel('signal values')\n",
    "ax2.set_ylabel('counts')\n",
    "ax2.set_yscale('log')\n",
    "\n",
    "colors3 = ['forestgreen','dodgerblue','lightsteelblue']\n",
    "ax3.hist(stacked_c, 15, density=False, histtype='bar', color=colors3, label=labels_signal)\n",
    "ax3.legend(prop={'size': 10})\n",
    "ax3.set_title('Child signal')\n",
    "ax3.set_xlabel('signal values')\n",
    "ax3.set_ylabel('counts')\n",
    "ax3.set_yscale('log')\n",
    "\n",
    "fig.set_size_inches(15, 10)\n",
    "fig.tight_layout()\n",
    "plt.show()"
   ]
  },
  {
   "cell_type": "code",
   "execution_count": null,
   "id": "5ea2a1e7",
   "metadata": {},
   "outputs": [],
   "source": []
  }
 ],
 "metadata": {
  "kernelspec": {
   "display_name": "Python 3 (ipykernel)",
   "language": "python",
   "name": "python3"
  },
  "language_info": {
   "codemirror_mode": {
    "name": "ipython",
    "version": 3
   },
   "file_extension": ".py",
   "mimetype": "text/x-python",
   "name": "python",
   "nbconvert_exporter": "python",
   "pygments_lexer": "ipython3",
   "version": "3.9.7"
  }
 },
 "nbformat": 4,
 "nbformat_minor": 5
}
