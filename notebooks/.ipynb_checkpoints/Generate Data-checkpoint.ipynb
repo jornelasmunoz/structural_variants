{
 "cells": [
  {
   "cell_type": "code",
   "execution_count": 4,
   "id": "cdb2edec-9514-4383-86da-2daa23d22dfb",
   "metadata": {},
   "outputs": [
    {
     "name": "stdout",
     "output_type": "stream",
     "text": [
      "/opt/anaconda3/lib/python3.9/site-packages/matlab/__init__.py\n"
     ]
    }
   ],
   "source": [
    "import os, sys\n",
    "sys.path.insert(0, 'structural_variants/lib/')\n",
    "import numpy as np\n",
    "import pandas as pd\n",
    "import matplotlib.pyplot as plt\n",
    "from scipy import sparse\n",
    "import sympy\n",
    "\n",
    "# MATLAB\n",
    "import matlab.engine\n",
    "import matlab\n",
    "print(matlab.__file__)\n",
    "eng = matlab.engine.start_matlab()"
   ]
  },
  {
   "cell_type": "code",
   "execution_count": 16,
   "id": "5c046046-99f0-4be3-854e-8960911f4e9d",
   "metadata": {
    "tags": []
   },
   "outputs": [],
   "source": [
    "def generate_data(params):\n",
    "    '''\n",
    "    Generate simulated data for a one parent, one child Structural Variant analysis\n",
    "    Args:\n",
    "        n: size of data vectors (signals)\n",
    "        k: total number of structural variants\n",
    "        pctNovel: percent of novel structural variants in [0,1] (biological reality- very small %)\n",
    "        lambda_p, lambda_c: sequence coverage of child and parent, respectively\n",
    "        erreps: error (>0) incurred by sequencing and mapping process\n",
    "        r: dispersion parameter for Negative Binomial distribution\n",
    "    \n",
    "    Output:\n",
    "        A_c: (lambda_c - erreps) I_n, sparse diagonal nxn matrix. I_n is nxn identity matrix\n",
    "        A_p: (lambda_p - erreps) I_n, sparse diagonal nxn matrix. I_n is nxn identity matrix\n",
    "        s_p: nx1 random vector drawn from Negative binomial distribution (for parent)\n",
    "        s_c: nx1 random vector drawn from Negative binomial distribution (for child)\n",
    "        for i in {P (parent), H (inherited), N (novel)}:\n",
    "        z_i: nx1 indicator vector of homogeneous structural variants\n",
    "        y_i: nx1 indicator vector of heterogeneous structural variants\n",
    "        \n",
    "    '''\n",
    "\n",
    "    # params = {\n",
    "    #     'r': r,\n",
    "    #     'n': n,\n",
    "    #     'k': k,\n",
    "    #     'lambda_c': lambda_c,\n",
    "    #     'lambda_p': lambda_p,\n",
    "    #     'pctNovel': pctNovel,\n",
    "    #     'erreps'  : erreps,\n",
    "    #     'suffix'  : ['p','c'], }\n",
    "    q = np.random.permutation(params['n'])\n",
    "    print(q)\n",
    "    startVal = int(params['k']*params['pctNovel'])\n",
    "    endVal = int(startVal +params['k'])\n",
    "\n",
    "    f_p = f_c = f_h = f_n = np.zeros((params['n'],1), dtype=np.int8) \n",
    "    f_p[q[: params['k']]], f_c[q[startVal:endVal]] = 1,1\n",
    "    print(q[: params['k']])\n",
    "    f_h[q[startVal:params['k']]], f_n[q[params['n']+1:endVal]] = 1,1\n",
    "    \n",
    "    d = {}\n",
    "    for i, letter in enumerate(params['suffix']):\n",
    "        d['A_%s'%letter]   = (params[\"lambda_%s\"%letter] - params['erreps'])*sparse.eye(params['n'])\n",
    "        d['mu_%s'%letter]  = np.matmul(d['A_%s'%letter].toarray(), eval('f_%s'%letter)) + params['erreps']\n",
    "        d['var_%s'%letter] = d['mu_%s'%letter] +(1/params['r'])*(d['mu_%s'%letter]**2)\n",
    "        d['y_%s'%letter]   = np.random.negative_binomial(d['mu_%s'%letter]/(d['var_%s'%letter]-d['mu_%s'%letter]),d['mu_%s'%letter]/d['var_%s'%letter])\n",
    "    \n",
    "    d['f_p'] = f_p; d['f_h'] = f_h; d['f_n'] = f_n; \n",
    "    return d"
   ]
  },
  {
   "cell_type": "code",
   "execution_count": 6,
   "id": "dbf3ffde-28e4-45ed-b311-50330c9d76c2",
   "metadata": {},
   "outputs": [],
   "source": [
    "params = {\n",
    "    'r': 1,\n",
    "    'n': 10**2,\n",
    "    'k': 17,\n",
    "    'lambda_c': 4,\n",
    "    'lambda_p': 8,\n",
    "    'pctNovel': 0.15,\n",
    "    'erreps'  : 1e-2,\n",
    "    'suffix'  : ['p','c'] }"
   ]
  },
  {
   "cell_type": "raw",
   "id": "3a3988b9-f12f-4761-8ca2-895e51c9e4bb",
   "metadata": {},
   "source": [
    "r=1\n",
    "n=10**2\n",
    "k=17\n",
    "lambda_c = 4\n",
    "lambda_p = 8\n",
    "erreps = 0.01\n",
    "pctNovel = 0.15"
   ]
  },
  {
   "cell_type": "code",
   "execution_count": 17,
   "id": "c91d375a-96b8-4fa0-9ee9-4db248d7586a",
   "metadata": {},
   "outputs": [
    {
     "name": "stdout",
     "output_type": "stream",
     "text": [
      "[53 26 44 40 25 41  7 42 39 24 98  1 64 33 80 58 61 70 37 14 85 22 56 23\n",
      " 28  9  2 68 90 21 48 69 38 84 27 79 20 67 97 10 46 72  8 13 65 45 86 31\n",
      " 83 19 89 34 17  0 93 81 60 29 30 36 77 16 15 49 87 52 82 62 92 35  5  4\n",
      " 78 71 96 99 66 51  6 12  3 43 95 32 18 54 11 91 55 76 59 50 47 63 57 88\n",
      " 94 75 73 74]\n",
      "[53 26 44 40 25 41  7 42 39 24 98  1 64 33 80 58 61]\n"
     ]
    }
   ],
   "source": [
    "data = generate_data(params)"
   ]
  },
  {
   "cell_type": "code",
   "execution_count": 8,
   "id": "977cae5e-a2ba-4947-8fba-e907a3e8ba12",
   "metadata": {},
   "outputs": [
    {
     "data": {
      "text/plain": [
       "dict_keys(['A_p', 'mu_p', 'var_p', 'y_p', 'A_c', 'mu_c', 'var_c', 'y_c', 'f_p', 'f_h', 'f_n'])"
      ]
     },
     "execution_count": 8,
     "metadata": {},
     "output_type": "execute_result"
    }
   ],
   "source": [
    "data.keys()"
   ]
  },
  {
   "cell_type": "code",
   "execution_count": 9,
   "id": "8cfe5415-4e97-4b8d-b0dd-54c9fa97b764",
   "metadata": {},
   "outputs": [
    {
     "data": {
      "text/plain": [
       "array([[7.99, 0.  , 0.  , ..., 0.  , 0.  , 0.  ],\n",
       "       [0.  , 7.99, 0.  , ..., 0.  , 0.  , 0.  ],\n",
       "       [0.  , 0.  , 7.99, ..., 0.  , 0.  , 0.  ],\n",
       "       ...,\n",
       "       [0.  , 0.  , 0.  , ..., 7.99, 0.  , 0.  ],\n",
       "       [0.  , 0.  , 0.  , ..., 0.  , 7.99, 0.  ],\n",
       "       [0.  , 0.  , 0.  , ..., 0.  , 0.  , 7.99]])"
      ]
     },
     "execution_count": 9,
     "metadata": {},
     "output_type": "execute_result"
    }
   ],
   "source": [
    "data['A_p'].toarray()"
   ]
  },
  {
   "cell_type": "code",
   "execution_count": 18,
   "id": "3febf629-0476-4c69-a385-1fe3b0afd6ea",
   "metadata": {},
   "outputs": [
    {
     "data": {
      "text/plain": [
       "array([[0],\n",
       "       [1],\n",
       "       [0],\n",
       "       [0],\n",
       "       [0],\n",
       "       [0],\n",
       "       [0],\n",
       "       [1],\n",
       "       [0],\n",
       "       [0],\n",
       "       [0],\n",
       "       [0],\n",
       "       [0],\n",
       "       [0],\n",
       "       [0],\n",
       "       [0],\n",
       "       [0],\n",
       "       [0],\n",
       "       [0],\n",
       "       [0],\n",
       "       [0],\n",
       "       [0],\n",
       "       [0],\n",
       "       [0],\n",
       "       [1],\n",
       "       [1],\n",
       "       [1],\n",
       "       [0],\n",
       "       [0],\n",
       "       [0],\n",
       "       [0],\n",
       "       [0],\n",
       "       [0],\n",
       "       [1],\n",
       "       [0],\n",
       "       [0],\n",
       "       [0],\n",
       "       [1],\n",
       "       [0],\n",
       "       [1],\n",
       "       [1],\n",
       "       [1],\n",
       "       [1],\n",
       "       [0],\n",
       "       [1],\n",
       "       [0],\n",
       "       [0],\n",
       "       [0],\n",
       "       [0],\n",
       "       [0],\n",
       "       [0],\n",
       "       [0],\n",
       "       [0],\n",
       "       [1],\n",
       "       [0],\n",
       "       [0],\n",
       "       [0],\n",
       "       [0],\n",
       "       [1],\n",
       "       [0],\n",
       "       [0],\n",
       "       [1],\n",
       "       [0],\n",
       "       [0],\n",
       "       [1],\n",
       "       [0],\n",
       "       [0],\n",
       "       [0],\n",
       "       [0],\n",
       "       [0],\n",
       "       [1],\n",
       "       [0],\n",
       "       [0],\n",
       "       [0],\n",
       "       [0],\n",
       "       [0],\n",
       "       [0],\n",
       "       [0],\n",
       "       [0],\n",
       "       [0],\n",
       "       [1],\n",
       "       [0],\n",
       "       [0],\n",
       "       [0],\n",
       "       [0],\n",
       "       [0],\n",
       "       [0],\n",
       "       [0],\n",
       "       [0],\n",
       "       [0],\n",
       "       [0],\n",
       "       [0],\n",
       "       [0],\n",
       "       [0],\n",
       "       [0],\n",
       "       [0],\n",
       "       [0],\n",
       "       [0],\n",
       "       [1],\n",
       "       [0]], dtype=int8)"
      ]
     },
     "execution_count": 18,
     "metadata": {},
     "output_type": "execute_result"
    }
   ],
   "source": [
    "data['f_p']"
   ]
  },
  {
   "cell_type": "code",
   "execution_count": null,
   "id": "a754bafc-d9dd-4e8f-9d68-b74f5b7ad280",
   "metadata": {},
   "outputs": [],
   "source": [
    "np.matmul(data['A_p'].toarray(), data['f_p']) + params['erreps']"
   ]
  },
  {
   "cell_type": "code",
   "execution_count": null,
   "id": "f752af6b-4dd0-4df4-8bc6-b5c18cb964aa",
   "metadata": {},
   "outputs": [],
   "source": [
    "q = np.random.permutation(n)\n",
    "startVal = int(k*pctNovel)\n",
    "endVal = int(startVal +k)\n",
    "\n",
    "f_p = f_c = f_h = f_n = np.zeros((n,1), dtype=np.int8) \n",
    "f_p[q[:k]], f_c[q[startVal:endVal]] = 1,1\n",
    "f_h[q[startVal:k]], f_n[q[k+1:endVal]] = 1,1"
   ]
  },
  {
   "cell_type": "code",
   "execution_count": null,
   "id": "648f0e01-f95a-4b42-9c8b-c1aec91e89a0",
   "metadata": {},
   "outputs": [],
   "source": [
    "q = np.random.permutation(n); q"
   ]
  },
  {
   "cell_type": "code",
   "execution_count": null,
   "id": "cbefe317-3cb7-47f2-bf3c-c656cc4f3c59",
   "metadata": {},
   "outputs": [],
   "source": [
    "f_p = np.zeros((n,1))\n",
    "f_p[q[:k]] = 1"
   ]
  },
  {
   "cell_type": "code",
   "execution_count": null,
   "id": "54a99036-4fae-411a-8d79-49da6bace984",
   "metadata": {},
   "outputs": [],
   "source": [
    "q[:k]"
   ]
  },
  {
   "cell_type": "code",
   "execution_count": null,
   "id": "ba4d05c0-fe48-4935-af5a-a65e63800e70",
   "metadata": {},
   "outputs": [],
   "source": [
    "np.transpose(f_p)\n",
    "#print(np.sum(f_p))"
   ]
  },
  {
   "cell_type": "code",
   "execution_count": null,
   "id": "e6aab756-45e5-466c-b5a5-9b79f7101c8a",
   "metadata": {},
   "outputs": [],
   "source": [
    "startVal = int(k*pctNovel); print(startVal)\n",
    "endVal = int(startVal +k); print(endVal) "
   ]
  },
  {
   "cell_type": "code",
   "execution_count": null,
   "id": "a1f2a2ed-8d4e-491d-9129-fb4092f9efac",
   "metadata": {},
   "outputs": [],
   "source": [
    "q[:k]"
   ]
  },
  {
   "cell_type": "code",
   "execution_count": null,
   "id": "8b40e3ca-d8a2-4ad3-a280-cb5b2540af1f",
   "metadata": {},
   "outputs": [],
   "source": [
    "# if we do startVal +1, the child only gets k-1 SVs, and if we do startVal the child gets k SVs\n",
    "q[startVal:endVal]"
   ]
  },
  {
   "cell_type": "code",
   "execution_count": null,
   "id": "c4ec7943-feef-403e-b02f-614ed63df5c6",
   "metadata": {},
   "outputs": [],
   "source": [
    "f_c = np.zeros((n,1))\n",
    "f_c[q[startVal:endVal]] = 1"
   ]
  },
  {
   "cell_type": "code",
   "execution_count": null,
   "id": "ea96963c-0552-4229-9980-f02bc1faa6e6",
   "metadata": {},
   "outputs": [],
   "source": [
    "np.transpose(f_c)"
   ]
  },
  {
   "cell_type": "code",
   "execution_count": null,
   "id": "c3db21c5-c564-4b31-a695-f4605fdb0db4",
   "metadata": {},
   "outputs": [],
   "source": [
    "# f_p and f_c have same number of nonzero entries\n",
    "np.sum(f_p != 0) == np.sum(f_c != 0)"
   ]
  },
  {
   "cell_type": "code",
   "execution_count": null,
   "id": "b649d590-6575-44a8-9826-4494abc36fc8",
   "metadata": {},
   "outputs": [],
   "source": [
    "f_p = f_c = f_h = f_n = np.zeros((n,1), dtype=np.int8) #, np.zeros((n,1)), np.zeros((n,1)), np.zeros((n,1))\n",
    "f_p[q[:k]], f_c[q[startVal:endVal]] = 1,1\n",
    "np.transpose(f_c)"
   ]
  },
  {
   "cell_type": "code",
   "execution_count": null,
   "id": "562ecde5-8551-497b-a01c-67dbce1a49b8",
   "metadata": {},
   "outputs": [],
   "source": [
    "set(q[startVal:k]).issubset(q[:k])"
   ]
  },
  {
   "cell_type": "code",
   "execution_count": null,
   "id": "037d6630-326a-4904-a4f6-a8e3b4f2b77d",
   "metadata": {},
   "outputs": [],
   "source": [
    "f_h[q[startVal:k]], f_n[q[k+1:endVal]] = 1,1"
   ]
  },
  {
   "cell_type": "code",
   "execution_count": null,
   "id": "b6474179-1968-43e1-aeab-dcfe11719881",
   "metadata": {},
   "outputs": [],
   "source": [
    "np.transpose(f_n)"
   ]
  },
  {
   "cell_type": "code",
   "execution_count": null,
   "id": "9809ed7f-d037-42e3-889b-7822d763098f",
   "metadata": {},
   "outputs": [],
   "source": [
    "scipy.sparse.identity(n)"
   ]
  },
  {
   "cell_type": "code",
   "execution_count": null,
   "id": "25a214bd-a633-445e-a33d-2de9555769ea",
   "metadata": {},
   "outputs": [],
   "source": [
    "A_p, A_c = (lambda_p - erreps)*scipy.sparse.eye(n), (lambda_c - erreps)*scipy.sparse.eye(n)"
   ]
  },
  {
   "cell_type": "code",
   "execution_count": null,
   "id": "1031b759-bf4d-4c55-92e2-ed0bb2905883",
   "metadata": {},
   "outputs": [],
   "source": [
    "mu_p = np.matmul(A_p.toarray(), f_p) + erreps"
   ]
  },
  {
   "cell_type": "code",
   "execution_count": null,
   "id": "cc6b9b4a-3e60-4f55-accd-9267b931413c",
   "metadata": {},
   "outputs": [],
   "source": [
    "var_p = mu_p + (1/r)*(mu_p**2)"
   ]
  },
  {
   "cell_type": "code",
   "execution_count": null,
   "id": "0e244012-b3cc-4052-b049-b917fa97daa5",
   "metadata": {},
   "outputs": [],
   "source": [
    "np.transpose(var_p)"
   ]
  },
  {
   "cell_type": "code",
   "execution_count": null,
   "id": "2f94af0b-d1bb-41a9-91a6-65683c0f05c3",
   "metadata": {
    "tags": []
   },
   "outputs": [],
   "source": [
    "np.random.negative_binomial(mu_p/(var_p-mu_p),mu_p/var_p)"
   ]
  },
  {
   "cell_type": "code",
   "execution_count": null,
   "id": "f1fdeeb5-53f6-4c7f-9c77-ecd863ddc951",
   "metadata": {},
   "outputs": [],
   "source": [
    "params = {\n",
    "    'r': 1,\n",
    "    'n': 10**2,\n",
    "    'k': 17,\n",
    "    'lambda_c': 4,\n",
    "    'lambda_p': 8,\n",
    "    'pctNovel': 0.15,\n",
    "    'erreps'  : 1e-2,\n",
    "    'suffix'  : ['p','c'] }"
   ]
  },
  {
   "cell_type": "code",
   "execution_count": null,
   "id": "ee08c27f-03ce-43f1-9f95-55585bacab77",
   "metadata": {},
   "outputs": [],
   "source": [
    "d = {}\n",
    "for i, letter in enumerate(params['suffix']):\n",
    "    d['A_%s'%letter]   = (params[\"lambda_%s\"%letter] - params['erreps'])*sparse.eye(params['n'])\n",
    "    d['mu_%s'%letter]  = np.matmul(d['A_%s'%letter].toarray(), eval('f_%s'%letter)) + params['erreps']\n",
    "    d['var_%s'%letter] = d['mu_%s'%letter] +(1/params['r'])*(d['mu_%s'%letter]**2)\n",
    "    d['y_%s'%letter]   = np.random.negative_binomial(d['mu_%s'%letter]/(d['var_%s'%letter]-d['mu_%s'%letter]),d['mu_%s'%letter]/d['var_%s'%letter])"
   ]
  },
  {
   "cell_type": "code",
   "execution_count": null,
   "id": "7146dce6-be36-4a6f-bfc0-ba5e5ad1b2c0",
   "metadata": {},
   "outputs": [],
   "source": [
    "d.keys()"
   ]
  },
  {
   "cell_type": "code",
   "execution_count": null,
   "id": "801809c4-6c04-4ca7-a08e-3eec6dccc65b",
   "metadata": {},
   "outputs": [],
   "source": []
  }
 ],
 "metadata": {
  "kernelspec": {
   "display_name": "Python 3 (ipykernel)",
   "language": "python",
   "name": "python3"
  },
  "language_info": {
   "codemirror_mode": {
    "name": "ipython",
    "version": 3
   },
   "file_extension": ".py",
   "mimetype": "text/x-python",
   "name": "python",
   "nbconvert_exporter": "python",
   "pygments_lexer": "ipython3",
   "version": "3.9.7"
  }
 },
 "nbformat": 4,
 "nbformat_minor": 5
}
