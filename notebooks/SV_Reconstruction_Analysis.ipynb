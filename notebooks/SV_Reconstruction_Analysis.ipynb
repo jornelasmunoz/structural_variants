{
 "cells": [
  {
   "cell_type": "markdown",
   "id": "c24cc5dc",
   "metadata": {},
   "source": [
    "# SV Data Analysis"
   ]
  },
  {
   "cell_type": "code",
   "execution_count": 1,
   "id": "cbea5e4f",
   "metadata": {},
   "outputs": [],
   "source": [
    "%load_ext autoreload\n",
    "%autoreload 2\n",
    "%matplotlib inline"
   ]
  },
  {
   "cell_type": "code",
   "execution_count": 9,
   "id": "1d79f8c5",
   "metadata": {},
   "outputs": [
    {
     "name": "stdout",
     "output_type": "stream",
     "text": [
      "Using path =  /Users/jocelynornelas/iCloud Drive (Archive)/Desktop/UC Merced/Research/structural_variants/\n"
     ]
    }
   ],
   "source": [
    "import os, sys\n",
    "desktop_path = '/Users/jocelynornelasmunoz/Desktop/Research/structural_variants/'\n",
    "laptop_path = '/Users/jocelynornelas/iCloud Drive (Archive)/Desktop/UC Merced/Research/structural_variants/'\n",
    "if desktop_path in sys.path[0]: sys.path.insert(0, desktop_path + 'lib/'); path = desktop_path\n",
    "elif laptop_path in sys.path[0]: sys.path.insert(0, laptop_path + 'lib/'); path = laptop_path\n",
    "print('Using path = ', path)\n",
    "#DATA_PATH='/Users/jocelynornelasmunoz/Desktop/structural_variants/data/simulated/4p_4c_coverage'\n",
    "import numpy as np\n",
    "import pandas as pd\n",
    "import matplotlib.pyplot as plt\n",
    "import json\n",
    "from sklearn import metrics\n",
    "import scipy.io as sio\n",
    "sys.path.insert(0,path+ 'lib/pyfiles/')\n",
    "#import confusion_matrix as confmat"
   ]
  },
  {
   "cell_type": "markdown",
   "id": "7df96ed2",
   "metadata": {},
   "source": [
    "# Define function to plot ROC curves"
   ]
  },
  {
   "cell_type": "code",
   "execution_count": 9,
   "id": "4ad8a0fe",
   "metadata": {},
   "outputs": [],
   "source": [
    "def compute_FPR_TPR(path, suffix = None,save=False):\n",
    "    data = json.loads(open(path).read())\n",
    "    fhat_SPIRAL = np.array(data['fhat_SPIRAL'])\n",
    "    fhat_NEBULA = np.array(data['fhat_NEBULA'])\n",
    "    f_true = np.array(data['f_true'])\n",
    "    d={}\n",
    "    d['fpr_SPIRAL'], d['tpr_SPIRAL'], d['thresholds_SPIRAL'] = metrics.roc_curve(f_true, fhat_SPIRAL, pos_label=1)\n",
    "    d['fpr_NEBULA'], d['tpr_NEBULA'], d['thresholds_NEBULA'] = metrics.roc_curve(f_true, fhat_NEBULA, pos_label=1)\n",
    "    d['roc_auc_SPIRAL'] = metrics.auc(d['fpr_SPIRAL'], d['tpr_SPIRAL'])\n",
    "    d['roc_auc_NEBULA'] = metrics.auc(d['fpr_NEBULA'], d['tpr_NEBULA'])\n",
    "    \n",
    "    return d\n",
    "def plot_ROC(params, title=None, save=False):    \n",
    "    display_SPIRAL = metrics.RocCurveDisplay(fpr=params['fpr_SPIRAL'], tpr=params['tpr_SPIRAL'], roc_auc=params['roc_auc_SPIRAL'], estimator_name='SPIRAL')\n",
    "    display_NEBULA = metrics.RocCurveDisplay(fpr=params['fpr_NEBULA'], tpr=params['tpr_NEBULA'], roc_auc=params['roc_auc_NEBULA'], estimator_name='NEBULA')\n",
    "    fig, (ax1, ax2) = plt.subplots(1, 2, figsize=(20, 10))\n",
    "    if title is not None: fig.suptitle(title, fontsize=20)\n",
    "    display_SPIRAL.plot(ax=ax1)\n",
    "    display_NEBULA.plot(ax=ax2)\n",
    "    if save: plt.savefig('%s.png'%title, format='png')\n",
    "    plt.show()"
   ]
  },
  {
   "cell_type": "markdown",
   "id": "4572ef97",
   "metadata": {},
   "source": [
    "# Plot results"
   ]
  },
  {
   "cell_type": "code",
   "execution_count": 12,
   "id": "0131baed",
   "metadata": {},
   "outputs": [],
   "source": [
    "d = sio.loadmat('../results/100000n_50k/4Lp_2Lc/0.01tau_20gamma_RESULTS.mat')"
   ]
  },
  {
   "cell_type": "code",
   "execution_count": 13,
   "id": "17576427-2113-45cd-96b0-64e9044d5d26",
   "metadata": {},
   "outputs": [
    {
     "data": {
      "text/plain": [
       "dict_keys(['__header__', '__version__', '__globals__', 'A', 'AT', 'AUC_nc', 'AUC_np', 'AUC_nt', 'AUC_sc', 'AUC_sp', 'AUC_st', 'A_yc', 'A_yp', 'A_zc', 'A_zp', 'B', 'N', 'T_nc', 'T_np', 'T_nt', 'T_sc', 'T_sp', 'T_st', 'X_nc', 'X_np', 'X_nt', 'X_sc', 'X_sp', 'X_st', 'Y_nc', 'Y_np', 'Y_nt', 'Y_sc', 'Y_sp', 'Y_st', 'alphaaccept', 'alphamax', 'alphamin', 'cputime_NEBULA', 'cputime_SPIRAL', 'erreps', 'f_c', 'f_h', 'f_init', 'f_n', 'f_p', 'f_p2', 'f_true', 'fhatNEBULA', 'fhatNEBULA_c', 'fhatNEBULA_h', 'fhatNEBULA_n', 'fhatNEBULA_p', 'fhatSPIRAL', 'fhatSPIRAL_c', 'fhatSPIRAL_h', 'fhatSPIRAL_n', 'fhatSPIRAL_p', 'file', 'None', 'gamma', 'gamma_vals', 'i', 'iterations_NEBULA', 'iterations_SPIRAL', 'j', 'k', 'kind', 'lambda_c', 'lambda_p', 'logepsilon', 'maxiter', 'miniter', 'mu_c', 'mu_p', 'n', 'objective_NEBULA', 'objective_SPIRAL', 'params_AUCs', 'pctNovel', 'pct_similarity', 'plot_flag', 'print', 'r', 'reconerror_NEBULA', 'reconerror_SPIRAL', 'reg_params', 'reg_params_all', 's_c', 's_obs', 's_p', 'save_folder', 'save_path', 'stopcriterion', 'sub_folder', 'subvectors', 'tau', 'tau_vals', 'tolerance', 'var_c', 'var_p', 'verbose', 'y_h', 'y_n', 'y_p', 'z_h', 'z_n', 'z_p', '__function_workspace__'])"
      ]
     },
     "execution_count": 13,
     "metadata": {},
     "output_type": "execute_result"
    }
   ],
   "source": [
    "d.keys()"
   ]
  },
  {
   "cell_type": "code",
   "execution_count": 18,
   "id": "bc31db08-bba0-441e-a42f-069d2a0ec0da",
   "metadata": {},
   "outputs": [
    {
     "data": {
      "text/plain": [
       "array([0.01      , 2.        , 0.97772448, 0.77638771, 0.9994044 ,\n",
       "       0.74169766, 0.8771492 , 0.86873711])"
      ]
     },
     "execution_count": 18,
     "metadata": {},
     "output_type": "execute_result"
    }
   ],
   "source": []
  },
  {
   "cell_type": "code",
   "execution_count": null,
   "id": "47ce2169-3a02-4411-a046-6bb396f86ef1",
   "metadata": {},
   "outputs": [],
   "source": []
  }
 ],
 "metadata": {
  "kernelspec": {
   "display_name": "Python 3 (ipykernel)",
   "language": "python",
   "name": "python3"
  },
  "language_info": {
   "codemirror_mode": {
    "name": "ipython",
    "version": 3
   },
   "file_extension": ".py",
   "mimetype": "text/x-python",
   "name": "python",
   "nbconvert_exporter": "python",
   "pygments_lexer": "ipython3",
   "version": "3.9.7"
  }
 },
 "nbformat": 4,
 "nbformat_minor": 5
}
