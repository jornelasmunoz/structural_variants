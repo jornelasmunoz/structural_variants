{
 "cells": [
  {
   "cell_type": "markdown",
   "id": "c24cc5dc",
   "metadata": {},
   "source": [
    "# SV Data Analysis"
   ]
  },
  {
   "cell_type": "code",
   "execution_count": 1,
   "id": "cbea5e4f",
   "metadata": {},
   "outputs": [],
   "source": [
    "%load_ext autoreload\n",
    "%autoreload 2\n",
    "%matplotlib inline"
   ]
  },
  {
   "cell_type": "code",
   "execution_count": 2,
   "id": "1d79f8c5",
   "metadata": {},
   "outputs": [
    {
     "name": "stdout",
     "output_type": "stream",
     "text": [
      "Using path =  /Users/jocelynornelasmunoz/Desktop/Research/structural_variants/\n"
     ]
    }
   ],
   "source": [
    "import os, sys\n",
    "desktop_path = '/Users/jocelynornelasmunoz/Desktop/Research/structural_variants/'\n",
    "laptop_path = '/Users/jocelynornelas/iCloud Drive (Archive)/Desktop/UC Merced/Research/structural_variants/'\n",
    "if desktop_path in sys.path[0]: sys.path.insert(0, desktop_path + 'lib/'); path = desktop_path\n",
    "elif laptop_path in sys.path[0]: sys.path.insert(0, laptop_path + 'lib/'); path = laptop_path\n",
    "print('Using path = ', path)\n",
    "#DATA_PATH='/Users/jocelynornelasmunoz/Desktop/structural_variants/data/simulated/4p_4c_coverage'\n",
    "import numpy as np\n",
    "import pandas as pd\n",
    "import matplotlib.pyplot as plt\n",
    "import json\n",
    "from sklearn import metrics\n",
    "from sklearn.preprocessing import label_binarize\n",
    "import scipy.io as sio\n",
    "sys.path.insert(0,path+ 'lib/pyfiles/')\n",
    "#import confusion_matrix as confmat"
   ]
  },
  {
   "cell_type": "markdown",
   "id": "fb0318e8-c31e-4c63-9d39-b49d180d102d",
   "metadata": {},
   "source": [
    "# Comparison of all results"
   ]
  },
  {
   "cell_type": "code",
   "execution_count": 25,
   "id": "f1f4d994-8cb4-442c-84c5-86b33fd165dc",
   "metadata": {},
   "outputs": [],
   "source": [
    "data_path = path + 'results/100000n_50k/2Lp_4Lc/'\n",
    "#list the files\n",
    "filelist = os.listdir(data_path) "
   ]
  },
  {
   "cell_type": "markdown",
   "id": "6eb7ef13-3325-4d1b-bca8-7a60ae7c47b5",
   "metadata": {},
   "source": [
    "## Total comparison"
   ]
  },
  {
   "cell_type": "code",
   "execution_count": 26,
   "id": "2c7f8b25-051f-43a7-ab83-56db686169eb",
   "metadata": {
    "collapsed": true,
    "jupyter": {
     "outputs_hidden": true
    },
    "tags": []
   },
   "outputs": [
    {
     "name": "stderr",
     "output_type": "stream",
     "text": [
      "/opt/anaconda3/lib/python3.9/site-packages/scipy/io/matlab/mio.py:226: MatReadWarning: Duplicate variable name \"None\" in stream - replacing previous with new\n",
      "Consider mio5.varmats_from_mat to split file into single variable files\n",
      "  matfile_dict = MR.get_variables(variable_names)\n",
      "/opt/anaconda3/lib/python3.9/site-packages/scipy/io/matlab/mio.py:226: MatReadWarning: Duplicate variable name \"None\" in stream - replacing previous with new\n",
      "Consider mio5.varmats_from_mat to split file into single variable files\n",
      "  matfile_dict = MR.get_variables(variable_names)\n",
      "/opt/anaconda3/lib/python3.9/site-packages/scipy/io/matlab/mio.py:226: MatReadWarning: Duplicate variable name \"None\" in stream - replacing previous with new\n",
      "Consider mio5.varmats_from_mat to split file into single variable files\n",
      "  matfile_dict = MR.get_variables(variable_names)\n",
      "/opt/anaconda3/lib/python3.9/site-packages/scipy/io/matlab/mio.py:226: MatReadWarning: Duplicate variable name \"None\" in stream - replacing previous with new\n",
      "Consider mio5.varmats_from_mat to split file into single variable files\n",
      "  matfile_dict = MR.get_variables(variable_names)\n",
      "/opt/anaconda3/lib/python3.9/site-packages/scipy/io/matlab/mio.py:226: MatReadWarning: Duplicate variable name \"None\" in stream - replacing previous with new\n",
      "Consider mio5.varmats_from_mat to split file into single variable files\n",
      "  matfile_dict = MR.get_variables(variable_names)\n",
      "/opt/anaconda3/lib/python3.9/site-packages/scipy/io/matlab/mio.py:226: MatReadWarning: Duplicate variable name \"None\" in stream - replacing previous with new\n",
      "Consider mio5.varmats_from_mat to split file into single variable files\n",
      "  matfile_dict = MR.get_variables(variable_names)\n",
      "/opt/anaconda3/lib/python3.9/site-packages/scipy/io/matlab/mio.py:226: MatReadWarning: Duplicate variable name \"None\" in stream - replacing previous with new\n",
      "Consider mio5.varmats_from_mat to split file into single variable files\n",
      "  matfile_dict = MR.get_variables(variable_names)\n",
      "/opt/anaconda3/lib/python3.9/site-packages/scipy/io/matlab/mio.py:226: MatReadWarning: Duplicate variable name \"None\" in stream - replacing previous with new\n",
      "Consider mio5.varmats_from_mat to split file into single variable files\n",
      "  matfile_dict = MR.get_variables(variable_names)\n",
      "/opt/anaconda3/lib/python3.9/site-packages/scipy/io/matlab/mio.py:226: MatReadWarning: Duplicate variable name \"None\" in stream - replacing previous with new\n",
      "Consider mio5.varmats_from_mat to split file into single variable files\n",
      "  matfile_dict = MR.get_variables(variable_names)\n",
      "/opt/anaconda3/lib/python3.9/site-packages/scipy/io/matlab/mio.py:226: MatReadWarning: Duplicate variable name \"None\" in stream - replacing previous with new\n",
      "Consider mio5.varmats_from_mat to split file into single variable files\n",
      "  matfile_dict = MR.get_variables(variable_names)\n",
      "/opt/anaconda3/lib/python3.9/site-packages/scipy/io/matlab/mio.py:226: MatReadWarning: Duplicate variable name \"None\" in stream - replacing previous with new\n",
      "Consider mio5.varmats_from_mat to split file into single variable files\n",
      "  matfile_dict = MR.get_variables(variable_names)\n",
      "/opt/anaconda3/lib/python3.9/site-packages/scipy/io/matlab/mio.py:226: MatReadWarning: Duplicate variable name \"None\" in stream - replacing previous with new\n",
      "Consider mio5.varmats_from_mat to split file into single variable files\n",
      "  matfile_dict = MR.get_variables(variable_names)\n",
      "/opt/anaconda3/lib/python3.9/site-packages/scipy/io/matlab/mio.py:226: MatReadWarning: Duplicate variable name \"None\" in stream - replacing previous with new\n",
      "Consider mio5.varmats_from_mat to split file into single variable files\n",
      "  matfile_dict = MR.get_variables(variable_names)\n",
      "/opt/anaconda3/lib/python3.9/site-packages/scipy/io/matlab/mio.py:226: MatReadWarning: Duplicate variable name \"None\" in stream - replacing previous with new\n",
      "Consider mio5.varmats_from_mat to split file into single variable files\n",
      "  matfile_dict = MR.get_variables(variable_names)\n",
      "/opt/anaconda3/lib/python3.9/site-packages/scipy/io/matlab/mio.py:226: MatReadWarning: Duplicate variable name \"None\" in stream - replacing previous with new\n",
      "Consider mio5.varmats_from_mat to split file into single variable files\n",
      "  matfile_dict = MR.get_variables(variable_names)\n",
      "/opt/anaconda3/lib/python3.9/site-packages/scipy/io/matlab/mio.py:226: MatReadWarning: Duplicate variable name \"None\" in stream - replacing previous with new\n",
      "Consider mio5.varmats_from_mat to split file into single variable files\n",
      "  matfile_dict = MR.get_variables(variable_names)\n",
      "/opt/anaconda3/lib/python3.9/site-packages/scipy/io/matlab/mio.py:226: MatReadWarning: Duplicate variable name \"None\" in stream - replacing previous with new\n",
      "Consider mio5.varmats_from_mat to split file into single variable files\n",
      "  matfile_dict = MR.get_variables(variable_names)\n",
      "/opt/anaconda3/lib/python3.9/site-packages/scipy/io/matlab/mio.py:226: MatReadWarning: Duplicate variable name \"None\" in stream - replacing previous with new\n",
      "Consider mio5.varmats_from_mat to split file into single variable files\n",
      "  matfile_dict = MR.get_variables(variable_names)\n",
      "/opt/anaconda3/lib/python3.9/site-packages/scipy/io/matlab/mio.py:226: MatReadWarning: Duplicate variable name \"None\" in stream - replacing previous with new\n",
      "Consider mio5.varmats_from_mat to split file into single variable files\n",
      "  matfile_dict = MR.get_variables(variable_names)\n",
      "/opt/anaconda3/lib/python3.9/site-packages/scipy/io/matlab/mio.py:226: MatReadWarning: Duplicate variable name \"None\" in stream - replacing previous with new\n",
      "Consider mio5.varmats_from_mat to split file into single variable files\n",
      "  matfile_dict = MR.get_variables(variable_names)\n",
      "/opt/anaconda3/lib/python3.9/site-packages/scipy/io/matlab/mio.py:226: MatReadWarning: Duplicate variable name \"None\" in stream - replacing previous with new\n",
      "Consider mio5.varmats_from_mat to split file into single variable files\n",
      "  matfile_dict = MR.get_variables(variable_names)\n",
      "/opt/anaconda3/lib/python3.9/site-packages/scipy/io/matlab/mio.py:226: MatReadWarning: Duplicate variable name \"None\" in stream - replacing previous with new\n",
      "Consider mio5.varmats_from_mat to split file into single variable files\n",
      "  matfile_dict = MR.get_variables(variable_names)\n",
      "/opt/anaconda3/lib/python3.9/site-packages/scipy/io/matlab/mio.py:226: MatReadWarning: Duplicate variable name \"None\" in stream - replacing previous with new\n",
      "Consider mio5.varmats_from_mat to split file into single variable files\n",
      "  matfile_dict = MR.get_variables(variable_names)\n",
      "/opt/anaconda3/lib/python3.9/site-packages/scipy/io/matlab/mio.py:226: MatReadWarning: Duplicate variable name \"None\" in stream - replacing previous with new\n",
      "Consider mio5.varmats_from_mat to split file into single variable files\n",
      "  matfile_dict = MR.get_variables(variable_names)\n",
      "/opt/anaconda3/lib/python3.9/site-packages/scipy/io/matlab/mio.py:226: MatReadWarning: Duplicate variable name \"None\" in stream - replacing previous with new\n",
      "Consider mio5.varmats_from_mat to split file into single variable files\n",
      "  matfile_dict = MR.get_variables(variable_names)\n",
      "/opt/anaconda3/lib/python3.9/site-packages/scipy/io/matlab/mio.py:226: MatReadWarning: Duplicate variable name \"None\" in stream - replacing previous with new\n",
      "Consider mio5.varmats_from_mat to split file into single variable files\n",
      "  matfile_dict = MR.get_variables(variable_names)\n",
      "/opt/anaconda3/lib/python3.9/site-packages/scipy/io/matlab/mio.py:226: MatReadWarning: Duplicate variable name \"None\" in stream - replacing previous with new\n",
      "Consider mio5.varmats_from_mat to split file into single variable files\n",
      "  matfile_dict = MR.get_variables(variable_names)\n",
      "/opt/anaconda3/lib/python3.9/site-packages/scipy/io/matlab/mio.py:226: MatReadWarning: Duplicate variable name \"None\" in stream - replacing previous with new\n",
      "Consider mio5.varmats_from_mat to split file into single variable files\n",
      "  matfile_dict = MR.get_variables(variable_names)\n",
      "/opt/anaconda3/lib/python3.9/site-packages/scipy/io/matlab/mio.py:226: MatReadWarning: Duplicate variable name \"None\" in stream - replacing previous with new\n",
      "Consider mio5.varmats_from_mat to split file into single variable files\n",
      "  matfile_dict = MR.get_variables(variable_names)\n",
      "/opt/anaconda3/lib/python3.9/site-packages/scipy/io/matlab/mio.py:226: MatReadWarning: Duplicate variable name \"None\" in stream - replacing previous with new\n",
      "Consider mio5.varmats_from_mat to split file into single variable files\n",
      "  matfile_dict = MR.get_variables(variable_names)\n",
      "/opt/anaconda3/lib/python3.9/site-packages/scipy/io/matlab/mio.py:226: MatReadWarning: Duplicate variable name \"None\" in stream - replacing previous with new\n",
      "Consider mio5.varmats_from_mat to split file into single variable files\n",
      "  matfile_dict = MR.get_variables(variable_names)\n",
      "/opt/anaconda3/lib/python3.9/site-packages/scipy/io/matlab/mio.py:226: MatReadWarning: Duplicate variable name \"None\" in stream - replacing previous with new\n",
      "Consider mio5.varmats_from_mat to split file into single variable files\n",
      "  matfile_dict = MR.get_variables(variable_names)\n",
      "/opt/anaconda3/lib/python3.9/site-packages/scipy/io/matlab/mio.py:226: MatReadWarning: Duplicate variable name \"None\" in stream - replacing previous with new\n",
      "Consider mio5.varmats_from_mat to split file into single variable files\n",
      "  matfile_dict = MR.get_variables(variable_names)\n",
      "/opt/anaconda3/lib/python3.9/site-packages/scipy/io/matlab/mio.py:226: MatReadWarning: Duplicate variable name \"None\" in stream - replacing previous with new\n",
      "Consider mio5.varmats_from_mat to split file into single variable files\n",
      "  matfile_dict = MR.get_variables(variable_names)\n",
      "/opt/anaconda3/lib/python3.9/site-packages/scipy/io/matlab/mio.py:226: MatReadWarning: Duplicate variable name \"None\" in stream - replacing previous with new\n",
      "Consider mio5.varmats_from_mat to split file into single variable files\n",
      "  matfile_dict = MR.get_variables(variable_names)\n",
      "/opt/anaconda3/lib/python3.9/site-packages/scipy/io/matlab/mio.py:226: MatReadWarning: Duplicate variable name \"None\" in stream - replacing previous with new\n",
      "Consider mio5.varmats_from_mat to split file into single variable files\n",
      "  matfile_dict = MR.get_variables(variable_names)\n"
     ]
    },
    {
     "name": "stdout",
     "output_type": "stream",
     "text": [
      "Done!\n"
     ]
    }
   ],
   "source": [
    "rows = []\n",
    "\n",
    "for file in filelist:\n",
    "    d = sio.loadmat(data_path + file)\n",
    "    # calculate ROC metrics\n",
    "    d['fpr_SPIRAL_total'], d['tpr_SPIRAL_total'], d['thresholds_SPIRAL_total'] = metrics.roc_curve(d['f_true'], d['fhatSPIRAL'], pos_label=1)\n",
    "    d['fpr_NEBULA_total'], d['tpr_NEBULA_total'], d['thresholds_NEBULA_total'] = metrics.roc_curve(d['f_true'], d['fhatNEBULA'], pos_label=1)\n",
    "    d['roc_auc_SPIRAL_total'] = metrics.auc(d['fpr_SPIRAL_total'], d['tpr_SPIRAL_total'])\n",
    "    d['roc_auc_NEBULA_total'] = metrics.auc(d['fpr_NEBULA_total'], d['tpr_NEBULA_total'])\n",
    "    d['roc_curve_St'] = metrics.RocCurveDisplay(fpr=d['fpr_SPIRAL_total'], tpr=d['tpr_SPIRAL_total'], pos_label=1, roc_auc=d['roc_auc_SPIRAL_total'])\n",
    "    d['roc_curve_Nt'] = metrics.RocCurveDisplay(fpr=d['fpr_NEBULA_total'], tpr=d['tpr_NEBULA_total'], pos_label=1, roc_auc=d['roc_auc_NEBULA_total'])\n",
    "\n",
    "    # calculate Precision-Recall Metrics\n",
    "    d['prec_st'], d['recall_st'], _ = metrics.precision_recall_curve(d['f_true'], d['fhatSPIRAL'], pos_label=1)\n",
    "    d['prec_nt'], d['recall_nt'], _ = metrics.precision_recall_curve(d['f_true'], d['fhatNEBULA'], pos_label=1)\n",
    "    d['average_precision_Nt'] = metrics.average_precision_score(d['f_true'], d['fhatNEBULA'])\n",
    "    d['average_precision_St'] = metrics.average_precision_score(d['f_true'], d['fhatSPIRAL'])\n",
    "    d['pr_curve_St'] = metrics.PrecisionRecallDisplay(precision=d['prec_st'], recall=d['recall_st'], average_precision=d['average_precision_St'])\n",
    "    d['pr_curve_Nt'] = metrics.PrecisionRecallDisplay(precision=d['prec_nt'], recall=d['recall_nt'], average_precision=d['average_precision_Nt'])\n",
    "\n",
    "\n",
    "\n",
    "    # PARENT ------------------------------------------------------------\n",
    "    parent_true = label_binarize(np.squeeze(d['f_p']), classes=[0, 1, 2])\n",
    "    n_classes = parent_true.shape[1]\n",
    "    n = np.squeeze(d['n'])\n",
    "\n",
    "    ## SPIRAL PARENT\n",
    "    pred_p = np.zeros(parent_true.shape)\n",
    "    pred_p[:,0] = d['fhatSPIRAL'][:n,0] + d['fhatSPIRAL'][3*n:4*n,0]\n",
    "    pred_p[:,1] = d['fhatSPIRAL'][:n,0] + d['fhatSPIRAL'][3*n:4*n,0]\n",
    "    pred_p[:,2] = d['fhatSPIRAL'][:n,0] + d['fhatSPIRAL'][3*n:4*n,0]\n",
    "\n",
    "    # For each class\n",
    "    s = 'sp'\n",
    "    for i in range(n_classes):\n",
    "        d['prec_%s_%i'%(s,i)], d['recall__%s_%i'%(s,i)], _ = metrics.precision_recall_curve(parent_true[:, i], pred_p[:, i])\n",
    "        d['average_precision__%s_%i'%(s,i)] = metrics.average_precision_score(parent_true[:, i], pred_p[:, i])\n",
    "\n",
    "    # A \"micro-average\": quantifying score on all classes jointly\n",
    "    d[\"prec_%s_micro\"%s], d[\"recall_%s_micro\"%s], _ = metrics.precision_recall_curve(parent_true.ravel(), pred_p.ravel())\n",
    "    d['average_precision__%s_micro'%(s)] = metrics.average_precision_score(parent_true, pred_p, average=\"micro\")\n",
    "\n",
    "    ## NEBULA PARENT\n",
    "    pred_p = np.zeros(parent_true.shape)\n",
    "    pred_p[:,0] = d['fhatNEBULA'][:n,0] + d['fhatNEBULA'][3*n:4*n,0]\n",
    "    pred_p[:,1] = d['fhatNEBULA'][:n,0] + d['fhatNEBULA'][3*n:4*n,0]\n",
    "    pred_p[:,2] = d['fhatNEBULA'][:n,0] + d['fhatNEBULA'][3*n:4*n,0]\n",
    "\n",
    "    # For each class\n",
    "    s = 'np'\n",
    "    for i in range(n_classes):\n",
    "        d['prec_%s_%i'%(s,i)], d['recall__%s_%i'%(s,i)], _ = metrics.precision_recall_curve(parent_true[:, i], pred_p[:, i])\n",
    "        d['average_precision__%s_%i'%(s,i)] = metrics.average_precision_score(parent_true[:, i], pred_p[:, i])\n",
    "\n",
    "    # A \"micro-average\": quantifying score on all classes jointly\n",
    "    d[\"prec_%s_micro\"%s], d[\"recall_%s_micro\"%s], _ = metrics.precision_recall_curve(parent_true.ravel(), pred_p.ravel())\n",
    "    d['average_precision__%s_micro'%(s)] = metrics.average_precision_score(parent_true, pred_p, average=\"micro\")\n",
    "\n",
    "\n",
    "    # CHILD ------------------------------------------------------------\n",
    "\n",
    "    child_true = label_binarize(np.squeeze(d['f_c']), classes=[0, 1, 2])\n",
    "    n_classes = child_true.shape[1]\n",
    "    n = np.squeeze(d['n'])\n",
    "\n",
    "    ## SPIRAL PARENT\n",
    "    pred_c = np.zeros(child_true.shape)\n",
    "    pred_c[:,0] = d['fhatSPIRAL'][n:2*n,0] + d['fhatSPIRAL'][2*n:3*n,0] + d['fhatSPIRAL'][4*n:5*n,0] +  d['fhatSPIRAL'][5*n:6*n,0]\n",
    "    pred_c[:,1] = d['fhatSPIRAL'][n:2*n,0] + d['fhatSPIRAL'][2*n:3*n,0] + d['fhatSPIRAL'][4*n:5*n,0] +  d['fhatSPIRAL'][5*n:6*n,0]\n",
    "    pred_c[:,2] = d['fhatSPIRAL'][n:2*n,0] + d['fhatSPIRAL'][2*n:3*n,0] + d['fhatSPIRAL'][4*n:5*n,0] +  d['fhatSPIRAL'][5*n:6*n,0]\n",
    "\n",
    "    # For each class\n",
    "    s = 'sc'\n",
    "    for i in range(n_classes):\n",
    "        d['prec_%s_%i'%(s,i)], d['recall__%s_%i'%(s,i)], _ = metrics.precision_recall_curve(child_true[:, i], pred_c[:, i])\n",
    "        d['average_precision__%s_%i'%(s,i)] = metrics.average_precision_score(child_true[:, i], pred_c[:, i])\n",
    "\n",
    "    # A \"micro-average\": quantifying score on all classes jointly\n",
    "    d[\"prec_%s_micro\"%s], d[\"recall_%s_micro\"%s], _ = metrics.precision_recall_curve(child_true.ravel(), pred_c.ravel())\n",
    "    d['average_precision__%s_micro'%(s)] = metrics.average_precision_score(child_true, pred_c, average=\"micro\")\n",
    "\n",
    "    ## NEBULA PARENT\n",
    "    pred_p = np.zeros(parent_true.shape)\n",
    "    pred_p[:,0] = d['fhatNEBULA'][n:2*n,0] + d['fhatNEBULA'][2*n:3*n,0] + d['fhatNEBULA'][4*n:5*n,0] +  d['fhatNEBULA'][5*n:6*n,0]\n",
    "    pred_p[:,1] = d['fhatNEBULA'][n:2*n,0] + d['fhatNEBULA'][2*n:3*n,0] + d['fhatNEBULA'][4*n:5*n,0] +  d['fhatNEBULA'][5*n:6*n,0]\n",
    "    pred_p[:,2] = d['fhatNEBULA'][n:2*n,0] + d['fhatNEBULA'][2*n:3*n,0] + d['fhatNEBULA'][4*n:5*n,0] +  d['fhatNEBULA'][5*n:6*n,0]\n",
    "\n",
    "    # For each class\n",
    "    s = 'nc'\n",
    "    for i in range(n_classes):\n",
    "        d['prec_%s_%i'%(s,i)], d['recall__%s_%i'%(s,i)], _ = metrics.precision_recall_curve(child_true[:, i], pred_c[:, i])\n",
    "        d['average_precision__%s_%i'%(s,i)] = metrics.average_precision_score(child_true[:, i], pred_c[:, i])\n",
    "\n",
    "    # A \"micro-average\": quantifying score on all classes jointly\n",
    "    d[\"prec_%s_micro\"%s], d[\"recall_%s_micro\"%s], _ = metrics.precision_recall_curve(child_true.ravel(), pred_c.ravel())\n",
    "    d['average_precision__%s_micro'%(s)] = metrics.average_precision_score(child_true, pred_c, average=\"micro\")\n",
    "    rows.append([d])\n",
    "print('Done!')"
   ]
  },
  {
   "cell_type": "code",
   "execution_count": 130,
   "id": "a3c69989-c374-47ee-b603-582daaa97bb2",
   "metadata": {
    "collapsed": true,
    "jupyter": {
     "outputs_hidden": true,
     "source_hidden": true
    },
    "tags": []
   },
   "outputs": [
    {
     "data": {
      "image/png": "[encoded data removed]",
      "text/plain": [
       "<Figure size 504x576 with 1 Axes>"
      ]
     },
     "metadata": {
      "needs_background": "light"
     },
     "output_type": "display_data"
    }
   ],
   "source": [
    "# setup plot details\n",
    "colors = [\"navy\", \"turquoise\", \"darkorange\", \"cornflowerblue\", \"teal\"]\n",
    "\n",
    "_, ax = plt.subplots(figsize=(7, 8))\n",
    "\n",
    "display = metrics.PrecisionRecallDisplay(\n",
    "    recall=recall[\"micro\"],\n",
    "    precision=precision[\"micro\"],\n",
    "    average_precision=average_precision[\"micro\"],\n",
    ")\n",
    "display.plot(ax=ax, name=\"Micro-average precision-recall\", color=\"gold\")\n",
    "\n",
    "for i, color in zip(range(n_classes), colors):\n",
    "    display = metrics.PrecisionRecallDisplay(\n",
    "        recall=recall[i],\n",
    "        precision=precision[i],\n",
    "        average_precision=average_precision[i],\n",
    "    )\n",
    "    display.plot(ax=ax, name=\"Precision-recall for class %i\"%i, color=color)\n",
    "\n",
    "# add the legend for the iso-f1 curves\n",
    "handles, labels = display.ax_.get_legend_handles_labels()\n",
    "\n",
    "\n",
    "# set the legend and the axes\n",
    "ax.set_xlim([0.0, 1.0])\n",
    "ax.set_ylim([0.0, 1.05])\n",
    "ax.legend(handles=handles, labels=labels, loc=\"best\")\n",
    "ax.set_title(\"Precision-Recall curve to multi-class\")\n",
    "\n",
    "plt.show()"
   ]
  },
  {
   "cell_type": "code",
   "execution_count": 27,
   "id": "0f4c205a-b76a-437b-be38-9dd28a210fbb",
   "metadata": {},
   "outputs": [],
   "source": [
    "df_list = []\n",
    "for i in range(len(rows)):\n",
    "    df = pd.DataFrame(rows[i])\n",
    "    df_list.append(df)\n",
    "\n",
    "full_data = pd.concat(df_list)\n",
    "#full_data.to_csv('10000n_5k_16Lp_4Lc.csv')"
   ]
  },
  {
   "cell_type": "code",
   "execution_count": 30,
   "id": "3a6e57e3-c94f-480d-ad57-9000d72f7c6d",
   "metadata": {},
   "outputs": [
    {
     "name": "stdout",
     "output_type": "stream",
     "text": [
      "[[0.01]] [[20]] [-0.05129153] [9.43424353]\n",
      "[[1000]] [[10]] [0.] [0.05824166]\n",
      "[[10]] [[200]] [0.] [1.]\n",
      "[[1]] [[100]] [-1.62231177e-06] [1.00000017]\n",
      "[[1000]] [[2]] [-0.00028194] [0.00426679]\n",
      "[[1]] [[200]] [0.] [1.]\n",
      "[[10]] [[100]] [0.] [1.]\n",
      "[[100]] [[2]] [-9.02933579e-17] [1.]\n",
      "[[0.1]] [[100]] [-1.35484962e-15] [1.]\n",
      "[[100]] [[500]] [0.] [0.33436494]\n",
      "[[0.01]] [[500]] [-0.06022045] [9.43439523]\n",
      "[[10]] [[2]] [-0.00172306] [1.00014583]\n",
      "[[1000]] [[100]] [0.] [0.05796531]\n",
      "[[1000]] [[200]] [0.] [0.05796531]\n",
      "[[1]] [[2]] [-0.05634644] [9.4235882]\n",
      "[[0.01]] [[10]] [-0.05087619] [9.43427728]\n",
      "[[1000]] [[20]] [0.] [0.05811461]\n",
      "[[0.1]] [[200]] [-7.63860711e-19] [1.]\n",
      "[[10]] [[500]] [0.] [1.]\n",
      "[[10]] [[20]] [0.] [1.]\n",
      "[[1]] [[10]] [-0.06807162] [0.99341191]\n",
      "[[0.1]] [[2]] [-0.05077204] [9.4334274]\n",
      "[[0.1]] [[20]] [-0.05827748] [9.43327932]\n",
      "[[1]] [[500]] [0.] [1.]\n",
      "[[100]] [[20]] [-9.09639534e-05] [0.99999545]\n",
      "[[0.1]] [[10]] [-0.05368664] [9.43343591]\n",
      "[[0.01]] [[200]] [-0.0587118] [9.43421979]\n",
      "[[100]] [[200]] [0.] [0.33563181]\n",
      "[[100]] [[10]] [-0.00011322] [0.99998877]\n",
      "[[100]] [[100]] [0.] [0.33436494]\n",
      "[[0.1]] [[500]] [0.] [1.]\n",
      "[[0.01]] [[100]] [-0.054191] [9.43425513]\n",
      "[[1000]] [[500]] [0.] [0.05796531]\n",
      "[[10]] [[10]] [-0.0014172] [0.0397727]\n",
      "[[1]] [[20]] [-0.00171817] [1.00135846]\n",
      "[[0.01]] [[2]] [-0.05060543] [9.43427726]\n"
     ]
    },
    {
     "data": {
      "image/png": "[encoded data removed]",
      "text/plain": [
       "<Figure size 504x576 with 1 Axes>"
      ]
     },
     "metadata": {
      "needs_background": "light"
     },
     "output_type": "display_data"
    }
   ],
   "source": [
    "fig, ax = plt.subplots(figsize=(7,8))\n",
    "for i in range(36):\n",
    "    ax.hist(full_data['fhatNEBULA'].iloc[i])\n",
    "    print(full_data['tau'].iloc[i],full_data['gamma'].iloc[i],min(full_data['fhatNEBULA'].iloc[i]), max(full_data['fhatNEBULA'].iloc[i]))"
   ]
  },
  {
   "cell_type": "code",
   "execution_count": 68,
   "id": "b1e9956a-0aa3-4a7b-96d7-8bbf701f2e06",
   "metadata": {},
   "outputs": [
    {
     "data": {
      "image/png": "[encoded data removed]",
      "text/plain": [
       "<Figure size 504x576 with 1 Axes>"
      ]
     },
     "metadata": {
      "needs_background": "light"
     },
     "output_type": "display_data"
    }
   ],
   "source": [
    "fig, axs = plt.subplots(figsize=(7, 8))\n",
    "axs.scatter(full_data['AUC_nt'], full_data['AUC_st'], alpha=0.5)\n",
    "axs.plot([min(full_data['AUC_nt']),1], [min(full_data['AUC_nt']),1], 'r--')\n",
    "axs.set_xlabel('NEBULA', fontsize=14)\n",
    "axs.set_ylabel('SPIRAL', fontsize=14)\n",
    "axs.set_title('ROC Area Under the Curve Comparisons for Total Reconstruction', fontsize=16)\n",
    "plt.show()"
   ]
  },
  {
   "cell_type": "code",
   "execution_count": 113,
   "id": "52bdb351-b4ee-41b2-b469-85fdee6c2ac0",
   "metadata": {},
   "outputs": [
    {
     "name": "stdout",
     "output_type": "stream",
     "text": [
      "\t\t\t\t SPIRAL \t NEBULA\n",
      "Total experiments:\t\t  36 \t\t   36\n",
      "Min ROC AUC:\t\t        [0.74746117] \t [0.74746084]\n",
      "Max ROC AUC:\t\t        [0.97988392] \t [0.9770036]\n",
      "Better performance under ROC AUC 16 \t\t   20\n"
     ]
    }
   ],
   "source": [
    "print('\\t\\t\\t\\t SPIRAL \\t NEBULA')\n",
    "print('Total experiments:\\t\\t ', len(full_data['AUC_st']),'\\t\\t  ', len(full_data['AUC_nt']))\n",
    "print('Min ROC AUC:\\t\\t       ', min(full_data['AUC_st'])[0], '\\t', min(full_data['AUC_nt'])[0])\n",
    "print('Max ROC AUC:\\t\\t       ', max(full_data['AUC_st'])[0], '\\t', max(full_data['AUC_nt'])[0])\n",
    "print('Better performance under ROC AUC', np.sum((full_data['AUC_st'] > full_data['AUC_nt']).astype('int')),'\\t\\t  ', np.sum((full_data['AUC_st'] < full_data['AUC_nt']).astype('int')))"
   ]
  },
  {
   "cell_type": "code",
   "execution_count": 116,
   "id": "7161a1be-1433-4bfa-8b9a-51025c812664",
   "metadata": {},
   "outputs": [
    {
     "name": "stdout",
     "output_type": "stream",
     "text": [
      "\t\t\t\t SPIRAL \t NEBULA\n",
      "Total experiments:\t\t  36 \t\t   36\n",
      "Min AP:\t\t        0.023209868355614033 \t 0.027884676104618568\n",
      "Max AP:\t\t        0.378608385999228 \t 0.4014999477302984\n",
      "Better performance Avg. Prec. 11 \t\t   25\n"
     ]
    }
   ],
   "source": [
    "print('\\t\\t\\t\\t SPIRAL \\t NEBULA')\n",
    "print('Total experiments:\\t\\t ', len(full_data['average_precision_St']),'\\t\\t  ', len(full_data['average_precision_Nt']))\n",
    "print('Min AP:\\t\\t       ', min(full_data['average_precision_St']), '\\t', min(full_data['average_precision_Nt']))\n",
    "print('Max AP:\\t\\t       ', max(full_data['average_precision_St']), '\\t', max(full_data['average_precision_Nt']))\n",
    "print('Better performance Avg. Prec.', np.sum((full_data['average_precision_St'] > full_data['average_precision_Nt']).astype('int')),'\\t\\t  ', np.sum((full_data['average_precision_St'] < full_data['average_precision_Nt']).astype('int')))"
   ]
  },
  {
   "cell_type": "code",
   "execution_count": 83,
   "id": "6573b2b2-f457-4f1a-830b-55a07a75e5e6",
   "metadata": {},
   "outputs": [
    {
     "data": {
      "image/png": "[encoded data removed]",
      "text/plain": [
       "<Figure size 504x576 with 1 Axes>"
      ]
     },
     "metadata": {
      "needs_background": "light"
     },
     "output_type": "display_data"
    }
   ],
   "source": [
    "fig, axs = plt.subplots(figsize=(7, 8))\n",
    "axs.scatter(full_data['average_precision_Nt'], full_data['average_precision_St'], alpha=0.5)\n",
    "axs.plot([min(full_data['average_precision_Nt']),1], [min(full_data['average_precision_Nt']),1], 'r--')\n",
    "axs.set_xlabel('NEBULA', fontsize=14)\n",
    "axs.set_ylabel('SPIRAL', fontsize=14)\n",
    "axs.set_title('Average Precision Comparisons for Total Reconstruction', fontsize=16)\n",
    "plt.show()"
   ]
  },
  {
   "cell_type": "code",
   "execution_count": null,
   "id": "771364ec-8347-43fd-89f0-15a7386bce6d",
   "metadata": {},
   "outputs": [],
   "source": []
  },
  {
   "cell_type": "markdown",
   "id": "7df96ed2",
   "metadata": {
    "jp-MarkdownHeadingCollapsed": true,
    "tags": []
   },
   "source": [
    "# Define function to plot ROC curves"
   ]
  },
  {
   "cell_type": "code",
   "execution_count": 9,
   "id": "4ad8a0fe",
   "metadata": {
    "tags": []
   },
   "outputs": [],
   "source": [
    "def compute_FPR_TPR(path, suffix = None,save=False):\n",
    "    data = json.loads(open(path).read())\n",
    "    fhat_SPIRAL = np.array(data['fhat_SPIRAL'])\n",
    "    fhat_NEBULA = np.array(data['fhat_NEBULA'])\n",
    "    f_true = np.array(data['f_true'])\n",
    "    d={}\n",
    "    d['fpr_SPIRAL'], d['tpr_SPIRAL'], d['thresholds_SPIRAL'] = metrics.roc_curve(f_true, fhat_SPIRAL, pos_label=1)\n",
    "    d['fpr_NEBULA'], d['tpr_NEBULA'], d['thresholds_NEBULA'] = metrics.roc_curve(f_true, fhat_NEBULA, pos_label=1)\n",
    "    d['roc_auc_SPIRAL'] = metrics.auc(d['fpr_SPIRAL'], d['tpr_SPIRAL'])\n",
    "    d['roc_auc_NEBULA'] = metrics.auc(d['fpr_NEBULA'], d['tpr_NEBULA'])\n",
    "    \n",
    "    return d\n",
    "def plot_ROC(params, title=None, save=False):    \n",
    "    display_SPIRAL = metrics.RocCurveDisplay(fpr=params['fpr_SPIRAL'], tpr=params['tpr_SPIRAL'], roc_auc=params['roc_auc_SPIRAL'], estimator_name='SPIRAL')\n",
    "    display_NEBULA = metrics.RocCurveDisplay(fpr=params['fpr_NEBULA'], tpr=params['tpr_NEBULA'], roc_auc=params['roc_auc_NEBULA'], estimator_name='NEBULA')\n",
    "    fig, (ax1, ax2) = plt.subplots(1, 2, figsize=(20, 10))\n",
    "    if title is not None: fig.suptitle(title, fontsize=20)\n",
    "    display_SPIRAL.plot(ax=ax1)\n",
    "    display_NEBULA.plot(ax=ax2)\n",
    "    if save: plt.savefig('%s.png'%title, format='png')\n",
    "    plt.show()"
   ]
  },
  {
   "cell_type": "markdown",
   "id": "4572ef97",
   "metadata": {
    "tags": []
   },
   "source": [
    "# Plot results"
   ]
  },
  {
   "cell_type": "code",
   "execution_count": 10,
   "id": "fe4a0b0e-414a-46e1-a2d7-7caadd947a3f",
   "metadata": {
    "collapsed": true,
    "jupyter": {
     "outputs_hidden": true
    },
    "tags": []
   },
   "outputs": [
    {
     "data": {
      "text/plain": [
       "['0.01tau_20gamma_RESULTS.mat',\n",
       " '1000tau_10gamma_RESULTS.mat',\n",
       " '10tau_200gamma_RESULTS.mat',\n",
       " '1tau_100gamma_RESULTS.mat',\n",
       " '1000tau_2gamma_RESULTS.mat',\n",
       " '1tau_200gamma_RESULTS.mat',\n",
       " '10tau_100gamma_RESULTS.mat',\n",
       " '100tau_2gamma_RESULTS.mat',\n",
       " '0.1tau_100gamma_RESULTS.mat',\n",
       " '100tau_500gamma_RESULTS.mat',\n",
       " '0.01tau_500gamma_RESULTS.mat',\n",
       " '10tau_2gamma_RESULTS.mat',\n",
       " '1000tau_100gamma_RESULTS.mat',\n",
       " '1000tau_200gamma_RESULTS.mat',\n",
       " '1tau_2gamma_RESULTS.mat',\n",
       " '0.01tau_10gamma_RESULTS.mat',\n",
       " '1000tau_20gamma_RESULTS.mat',\n",
       " '0.1tau_200gamma_RESULTS.mat',\n",
       " '10tau_500gamma_RESULTS.mat',\n",
       " '10tau_20gamma_RESULTS.mat',\n",
       " '1tau_10gamma_RESULTS.mat',\n",
       " '0.1tau_2gamma_RESULTS.mat',\n",
       " '0.1tau_20gamma_RESULTS.mat',\n",
       " '1tau_500gamma_RESULTS.mat',\n",
       " '100tau_20gamma_RESULTS.mat',\n",
       " '0.1tau_10gamma_RESULTS.mat',\n",
       " '0.01tau_200gamma_RESULTS.mat',\n",
       " '100tau_200gamma_RESULTS.mat',\n",
       " '100tau_10gamma_RESULTS.mat',\n",
       " '100tau_100gamma_RESULTS.mat',\n",
       " '0.1tau_500gamma_RESULTS.mat',\n",
       " '0.01tau_100gamma_RESULTS.mat',\n",
       " '1000tau_500gamma_RESULTS.mat',\n",
       " '10tau_10gamma_RESULTS.mat',\n",
       " '1tau_20gamma_RESULTS.mat',\n",
       " '0.01tau_2gamma_RESULTS.mat']"
      ]
     },
     "execution_count": 10,
     "metadata": {},
     "output_type": "execute_result"
    }
   ],
   "source": [
    "os.listdir(path + 'results/100000n_50k/2Lp_4Lc')"
   ]
  },
  {
   "cell_type": "code",
   "execution_count": 7,
   "id": "0bb71c80-d3c2-4a77-b2bd-5531012f4a1c",
   "metadata": {},
   "outputs": [
    {
     "name": "stderr",
     "output_type": "stream",
     "text": [
      "/opt/anaconda3/lib/python3.9/site-packages/scipy/io/matlab/mio.py:226: MatReadWarning: Duplicate variable name \"None\" in stream - replacing previous with new\n",
      "Consider mio5.varmats_from_mat to split file into single variable files\n",
      "  matfile_dict = MR.get_variables(variable_names)\n"
     ]
    }
   ],
   "source": [
    "d = sio.loadmat(path + 'results/100000n_50k/4Lp_2Lc/0.01tau_20gamma_RESULTS.mat')"
   ]
  },
  {
   "cell_type": "code",
   "execution_count": 4,
   "id": "17576427-2113-45cd-96b0-64e9044d5d26",
   "metadata": {},
   "outputs": [
    {
     "data": {
      "text/plain": [
       "dict_keys(['__header__', '__version__', '__globals__', 'A', 'AT', 'AUC_nc', 'AUC_np', 'AUC_nt', 'AUC_sc', 'AUC_sp', 'AUC_st', 'A_yc', 'A_yp', 'A_zc', 'A_zp', 'B', 'N', 'T_nc', 'T_np', 'T_nt', 'T_sc', 'T_sp', 'T_st', 'X_nc', 'X_np', 'X_nt', 'X_sc', 'X_sp', 'X_st', 'Y_nc', 'Y_np', 'Y_nt', 'Y_sc', 'Y_sp', 'Y_st', 'alphaaccept', 'alphamax', 'alphamin', 'cputime_NEBULA', 'cputime_SPIRAL', 'erreps', 'f_c', 'f_h', 'f_init', 'f_n', 'f_p', 'f_p2', 'f_true', 'fhatNEBULA', 'fhatNEBULA_c', 'fhatNEBULA_h', 'fhatNEBULA_n', 'fhatNEBULA_p', 'fhatSPIRAL', 'fhatSPIRAL_c', 'fhatSPIRAL_h', 'fhatSPIRAL_n', 'fhatSPIRAL_p', 'file', 'None', 'gamma', 'gamma_vals', 'i', 'iterations_NEBULA', 'iterations_SPIRAL', 'j', 'k', 'kind', 'lambda_c', 'lambda_p', 'logepsilon', 'maxiter', 'miniter', 'mu_c', 'mu_p', 'n', 'objective_NEBULA', 'objective_SPIRAL', 'params_AUCs', 'pctNovel', 'pct_similarity', 'plot_flag', 'print', 'r', 'reconerror_NEBULA', 'reconerror_SPIRAL', 'reg_params', 'reg_params_all', 's_c', 's_obs', 's_p', 'save_folder', 'save_path', 'stopcriterion', 'sub_folder', 'subvectors', 'tau', 'tau_vals', 'tolerance', 'var_c', 'var_p', 'verbose', 'y_h', 'y_n', 'y_p', 'z_h', 'z_n', 'z_p', '__function_workspace__'])"
      ]
     },
     "execution_count": 4,
     "metadata": {},
     "output_type": "execute_result"
    }
   ],
   "source": [
    "d.keys()"
   ]
  },
  {
   "cell_type": "code",
   "execution_count": 35,
   "id": "11425fc3-ba7a-4429-b8a4-d481162da995",
   "metadata": {},
   "outputs": [],
   "source": [
    "from sklearn.metrics import roc_curve\n",
    "from sklearn.metrics import RocCurveDisplay\n",
    "\n",
    "#fpr, tpr, _ = roc_curve(y_test, y_score, pos_label=1)\n",
    "#roc_display = RocCurveDisplay(fpr=fpr, tpr=tpr).plot()"
   ]
  },
  {
   "cell_type": "code",
   "execution_count": 41,
   "id": "894bf00e-0d35-4727-8d61-9bf27926219e",
   "metadata": {},
   "outputs": [],
   "source": [
    "d['fpr_SPIRAL'], d['tpr_SPIRAL'], d['thresholds_SPIRAL'] = metrics.roc_curve(d['f_true'], d['fhatSPIRAL'], pos_label=1)\n",
    "d['fpr_NEBULA'], d['tpr_NEBULA'], d['thresholds_NEBULA'] = metrics.roc_curve(d['f_true'], d['fhatNEBULA'], pos_label=1)\n",
    "d['roc_auc_SPIRAL'] = metrics.auc(d['fpr_SPIRAL'], d['tpr_SPIRAL'])\n",
    "d['roc_auc_NEBULA'] = metrics.auc(d['fpr_NEBULA'], d['tpr_NEBULA'])"
   ]
  },
  {
   "cell_type": "code",
   "execution_count": 54,
   "id": "c0d77236-ad1b-4a93-8dd7-b85f5252cad4",
   "metadata": {},
   "outputs": [],
   "source": [
    "from sklearn.metrics import precision_recall_curve\n",
    "from sklearn.metrics import PrecisionRecallDisplay\n",
    "\n",
    "prec_st, recall_st, _ = precision_recall_curve(d['f_true'], d['fhatSPIRAL'], pos_label=1)\n",
    "prec_nt, recall_nt, _ = precision_recall_curve(d['f_true'], d['fhatNEBULA'], pos_label=1)\n",
    "average_precision_Nt = metrics.average_precision_score(d['f_true'], d['fhatNEBULA'])\n",
    "average_precision_St = metrics.average_precision_score(d['f_true'], d['fhatSPIRAL'])\n",
    "\n",
    "pr_curve_St = PrecisionRecallDisplay(precision=prec_st, recall=recall_st, average_precision=average_precision_St)\n",
    "pr_curve_Nt = PrecisionRecallDisplay(precision=prec_nt, recall=recall_nt, average_precision=average_precision_Nt)"
   ]
  },
  {
   "cell_type": "code",
   "execution_count": 55,
   "id": "43c23e6e-6818-4d4f-b711-87c95f33dc08",
   "metadata": {},
   "outputs": [
    {
     "data": {
      "text/plain": [
       "<sklearn.metrics._plot.precision_recall_curve.PrecisionRecallDisplay at 0x7fb3fcd14c70>"
      ]
     },
     "execution_count": 55,
     "metadata": {},
     "output_type": "execute_result"
    },
    {
     "data": {
      "image/png": "[encoded data removed]",
      "text/plain": [
       "<Figure size 504x576 with 1 Axes>"
      ]
     },
     "metadata": {
      "needs_background": "light"
     },
     "output_type": "display_data"
    }
   ],
   "source": [
    "fig, ax = plt.subplots(figsize=(7, 8))\n",
    "pr_curve_Nt.plot(ax=ax, name = 'NEBULA total')\n",
    "pr_curve_St.plot(ax=ax, name='SPIRAL total')"
   ]
  },
  {
   "cell_type": "code",
   "execution_count": null,
   "id": "653c72b2-080b-4586-be2f-5c584ac936a1",
   "metadata": {},
   "outputs": [],
   "source": []
  }
 ],
 "metadata": {
  "kernelspec": {
   "display_name": "Python 3 (ipykernel)",
   "language": "python",
   "name": "python3"
  },
  "language_info": {
   "codemirror_mode": {
    "name": "ipython",
    "version": 3
   },
   "file_extension": ".py",
   "mimetype": "text/x-python",
   "name": "python",
   "nbconvert_exporter": "python",
   "pygments_lexer": "ipython3",
   "version": "3.9.7"
  }
 },
 "nbformat": 4,
 "nbformat_minor": 5
}
