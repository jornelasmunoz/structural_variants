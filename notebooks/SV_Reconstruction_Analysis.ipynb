{
 "cells": [
  {
   "cell_type": "markdown",
   "id": "4cec514f-1909-4b65-b5ab-bfc12ce1fa46",
   "metadata": {},
   "source": [
    "# SV Data Analysis"
   ]
  },
  {
   "cell_type": "code",
   "execution_count": 1,
   "id": "e130c9eb-4fd8-4e17-8b03-9bff8b46c25e",
   "metadata": {},
   "outputs": [],
   "source": [
    "%load_ext autoreload\n",
    "%autoreload 2\n",
    "%matplotlib inline"
   ]
  },
  {
   "cell_type": "code",
   "execution_count": 2,
   "id": "f19e47df-73d8-4e63-b4ba-0b6321fbcca9",
   "metadata": {},
   "outputs": [],
   "source": [
    "import os, sys\n",
    "sys.path.insert(0, '/Users/jocelynornelasmunoz/Desktop/structural_variants/lib')\n",
    "DATA_PATH='/Users/jocelynornelasmunoz/Desktop/structural_variants/data/simulated/4p_4c_coverage'\n",
    "import numpy as np\n",
    "import pandas as pd\n",
    "import matplotlib.pyplot as plt\n",
    "import json\n",
    "\n",
    "import confusion_matrix as confmat"
   ]
  },
  {
   "cell_type": "code",
   "execution_count": 11,
   "id": "bfeaa906-9cc7-4b76-afe7-286616ec900a",
   "metadata": {},
   "outputs": [],
   "source": [
    "data = json.loads(open(DATA_PATH + '/test_json.json').read())"
   ]
  },
  {
   "cell_type": "code",
   "execution_count": 12,
   "id": "9b7c4df2-fbd7-4df6-8229-159cad95a05c",
   "metadata": {},
   "outputs": [
    {
     "data": {
      "text/plain": [
       "dict_keys(['fhat', 'cputime', 'iterations', 'objective', 'reconerror', 'f_true'])"
      ]
     },
     "execution_count": 12,
     "metadata": {},
     "output_type": "execute_result"
    }
   ],
   "source": [
    "data.keys()"
   ]
  },
  {
   "cell_type": "code",
   "execution_count": 13,
   "id": "1453aac7-858a-4536-baa3-e46f70761b59",
   "metadata": {},
   "outputs": [],
   "source": [
    "f_hat = np.array(data['fhat'])"
   ]
  },
  {
   "cell_type": "code",
   "execution_count": 14,
   "id": "90284308-fc3e-4970-8cdf-f88da122978c",
   "metadata": {},
   "outputs": [],
   "source": [
    "f_true = np.array(data['f_true'])"
   ]
  },
  {
   "cell_type": "code",
   "execution_count": 15,
   "id": "b0c60475-48c7-4d05-bf34-420954ccda7c",
   "metadata": {},
   "outputs": [
    {
     "data": {
      "text/plain": [
       "array([0.00000000e+00, 2.09953491e-28, 2.09953491e-28, 2.09953491e-28,\n",
       "       6.15173163e-28, 6.15173163e-28, 1.02039283e-27, 1.02039283e-27,\n",
       "       1.42561251e-27, 1.83083218e-27, 2.23605185e-27, 2.64127152e-27,\n",
       "       3.04649119e-27, 3.85693053e-27, 3.85693053e-27, 4.26215020e-27,\n",
       "       5.07258955e-27, 7.50390757e-27, 2.12813764e-26, 2.29022551e-26,\n",
       "       6.68971365e-12, 6.68973935e-12, 6.68973936e-12, 6.68973936e-12,\n",
       "       6.68976019e-12, 6.69812249e-12, 6.69812249e-12, 1.33794319e-11,\n",
       "       1.33794695e-11, 1.33794695e-11, 1.33794695e-11, 1.33795093e-11,\n",
       "       1.33962193e-11, 1.33962357e-11, 1.33962357e-11, 1.33962450e-11,\n",
       "       1.33962450e-11, 1.33962450e-11, 2.00691507e-11, 2.00691986e-11,\n",
       "       2.00691986e-11, 2.00691986e-11, 2.00692523e-11, 2.00943479e-11,\n",
       "       2.00943479e-11, 2.67589252e-11, 2.67589273e-11, 2.67589273e-11,\n",
       "       2.67589915e-11, 2.67924339e-11, 2.67924598e-11, 2.67924598e-11,\n",
       "       2.67924715e-11, 2.67924715e-11, 2.67924715e-11, 3.34486442e-11,\n",
       "       3.34486560e-11, 3.34486560e-11, 3.34487282e-11, 3.34905716e-11,\n",
       "       3.34905716e-11, 4.01383633e-11, 4.01383845e-11, 4.01383845e-11,\n",
       "       4.01384633e-11, 4.01886480e-11, 4.01886833e-11, 4.01886833e-11,\n",
       "       4.01886959e-11, 4.01886959e-11, 4.01886959e-11, 4.68280824e-11,\n",
       "       4.68281130e-11, 4.68281130e-11, 4.68281130e-11, 4.68281971e-11,\n",
       "       4.68867949e-11, 4.68867949e-11, 5.35178015e-11, 5.35178415e-11,\n",
       "       5.35178415e-11, 5.35178415e-11, 5.35179299e-11, 5.35849065e-11,\n",
       "       5.35849065e-11, 5.35849175e-11, 5.35849197e-11, 5.35849197e-11,\n",
       "       6.02075206e-11, 6.02075700e-11, 6.68972984e-11, 6.68972984e-11,\n",
       "       6.69811296e-11, 6.69811296e-11, 6.69811314e-11, 6.69811432e-11,\n",
       "       6.69811432e-11, 8.03773453e-11, 8.03773665e-11, 8.03773665e-11,\n",
       "       9.37735591e-11, 9.37735898e-11, 9.37735898e-11, 9.37735898e-11,\n",
       "       1.07169773e-10, 1.07169813e-10, 1.07169813e-10, 1.07169813e-10,\n",
       "       1.20565987e-10, 1.20566036e-10, 1.33962259e-10, 1.33962259e-10,\n",
       "       1.00000000e+00, 1.00000000e+00, 1.00000000e+00, 1.00000000e+00,\n",
       "       1.00000000e+00, 1.00000000e+00, 1.00000000e+00, 1.00000000e+00,\n",
       "       1.00000000e+00, 1.00000000e+00])"
      ]
     },
     "execution_count": 15,
     "metadata": {},
     "output_type": "execute_result"
    }
   ],
   "source": [
    "np.unique(f_hat)"
   ]
  },
  {
   "cell_type": "code",
   "execution_count": 20,
   "id": "927673a9-3357-41d9-9d1f-e271cb7d1ec5",
   "metadata": {},
   "outputs": [],
   "source": [
    "from sklearn import metrics\n",
    "fpr, tpr, thresholds = metrics.roc_curve(f_true, f_hat, pos_label=1)\n",
    "roc_auc = metrics.auc(fpr, tpr)"
   ]
  },
  {
   "cell_type": "code",
   "execution_count": 22,
   "id": "cd776c20-bf7b-4be3-bca2-7a7606957065",
   "metadata": {},
   "outputs": [
    {
     "data": {
      "image/png": "[encoded data removed]",
      "text/plain": [
       "<Figure size 432x288 with 1 Axes>"
      ]
     },
     "metadata": {
      "needs_background": "light"
     },
     "output_type": "display_data"
    }
   ],
   "source": [
    "display = metrics.RocCurveDisplay(fpr=fpr, tpr=tpr, roc_auc=roc_auc, estimator_name='NEBULA')\n",
    "display.plot()\n",
    "plt.show()"
   ]
  },
  {
   "cell_type": "code",
   "execution_count": null,
   "id": "3fe05f30-a800-43eb-b539-8fb4820aec04",
   "metadata": {},
   "outputs": [],
   "source": [
    "from confusion_matrix import heatmap, annotate_heatmap\n",
    "import sklearn\n",
    "\n",
    "con_mat = sklearn.metrics.confusion_matrix(f_true,f_hat,normalize='true')\n",
    "axlabels=['SV', 'Not SV']\n",
    "\n",
    "fig, ax = plt.subplots()\n",
    "im, cbar = heatmap(con_mat, axlabels, axlabels, ax=ax,cmap = 'Blues', cbarlabel=\"Probability\")\n",
    "plt.ylabel(\"Truth\")\n",
    "plt.xlabel(\"Prediction\")\n",
    "texts = annotate_heatmap(im, valfmt=\"{x:.3f}\")"
   ]
  }
 ],
 "metadata": {
  "kernelspec": {
   "display_name": "Python 3 (ipykernel)",
   "language": "python",
   "name": "python3"
  },
  "language_info": {
   "codemirror_mode": {
    "name": "ipython",
    "version": 3
   },
   "file_extension": ".py",
   "mimetype": "text/x-python",
   "name": "python",
   "nbconvert_exporter": "python",
   "pygments_lexer": "ipython3",
   "version": "3.9.7"
  }
 },
 "nbformat": 4,
 "nbformat_minor": 5
}
